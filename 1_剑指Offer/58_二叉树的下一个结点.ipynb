{
 "cells": [
  {
   "cell_type": "code",
   "execution_count": 1,
   "metadata": {},
   "outputs": [],
   "source": [
    "\"\"\"\n",
    "在一个排序的链表中，存在重复的结点，请删除该链表中重复的结点，重复的结点不保留，返回链表头指针。 \n",
    "例如，链表1->2->3->3->4->4->5 处理后为 1->2->5\n",
    "\"\"\"\n",
    "# 原文：https://blog.csdn.net/Lynette_bb/article/details/75125432 \n",
    "\n",
    "\n",
    "# -*- coding:utf-8 -*-\n",
    "# class TreeLinkNode:\n",
    "#     def __init__(self, x):\n",
    "#         self.val = x\n",
    "#         self.left = None\n",
    "#         self.right = None\n",
    "#         self.next = None\n",
    "class Solution:\n",
    "    def GetNext(self, pNode):\n",
    "        if not pNode: return None\n",
    "        if pNode.right:\n",
    "            pNode = pNode.right\n",
    "            while pNode.left:\n",
    "                pNode = pNode.left\n",
    "            return pNode\n",
    "        else:\n",
    "            while pNode.next:\n",
    "                if pNode == pNode.next.left:\n",
    "                    return pNode.next\n",
    "                pNode = pNode.next\n",
    "        return None"
   ]
  },
  {
   "cell_type": "code",
   "execution_count": null,
   "metadata": {},
   "outputs": [],
   "source": []
  }
 ],
 "metadata": {
  "kernelspec": {
   "display_name": "Python 3",
   "language": "python",
   "name": "python3"
  },
  "language_info": {
   "codemirror_mode": {
    "name": "ipython",
    "version": 3
   },
   "file_extension": ".py",
   "mimetype": "text/x-python",
   "name": "python",
   "nbconvert_exporter": "python",
   "pygments_lexer": "ipython3",
   "version": "3.6.4"
  }
 },
 "nbformat": 4,
 "nbformat_minor": 2
}
