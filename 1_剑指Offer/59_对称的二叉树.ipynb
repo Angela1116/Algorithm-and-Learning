{
 "cells": [
  {
   "cell_type": "code",
   "execution_count": 1,
   "metadata": {
    "collapsed": true
   },
   "outputs": [],
   "source": [
    "\"\"\"\n",
    "请实现一个函数，用来判断一颗二叉树是不是对称的。\n",
    "注意，如果一个二叉树同此二叉树的镜像是同样的，定义其为对称的。\n",
    "\"\"\"\n",
    "# 原文：https://blog.csdn.net/u010005281/article/details/79734505\n",
    "\n",
    "\n",
    "class Solution:\n",
    "    def isSymmetrical(self, pRoot):\n",
    "        if not pRoot:\n",
    "            return True\n",
    "        return self.recursiveTree(pRoot.left, pRoot.right)\n",
    "\n",
    "    def recursiveTree(self, left, right):\n",
    "        if not left and not right:\n",
    "            return True\n",
    "        if not left or not right:\n",
    "            return False\n",
    "        if left.val == right.val:\n",
    "            return self.recursiveTree(left.left, right.right) and self.recursiveTree(left.right, right.left)\n",
    "        return False"
   ]
  },
  {
   "cell_type": "code",
   "execution_count": null,
   "metadata": {
    "collapsed": true
   },
   "outputs": [],
   "source": []
  }
 ],
 "metadata": {
  "anaconda-cloud": {},
  "kernelspec": {
   "display_name": "Python [conda env:liuzhen]",
   "language": "python",
   "name": "conda-env-liuzhen-py"
  },
  "language_info": {
   "codemirror_mode": {
    "name": "ipython",
    "version": 3
   },
   "file_extension": ".py",
   "mimetype": "text/x-python",
   "name": "python",
   "nbconvert_exporter": "python",
   "pygments_lexer": "ipython3",
   "version": "3.6.2"
  },
  "nbpresent": {
   "slides": {
    "86ac9cf2-27b3-4f22-8e9d-64d952028a3e": {
     "id": "86ac9cf2-27b3-4f22-8e9d-64d952028a3e",
     "prev": null,
     "regions": {}
    }
   },
   "themes": {}
  }
 },
 "nbformat": 4,
 "nbformat_minor": 1
}
