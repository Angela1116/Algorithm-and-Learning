{
 "cells": [
  {
   "cell_type": "code",
   "execution_count": 1,
   "metadata": {
    "collapsed": true
   },
   "outputs": [],
   "source": [
    "\"\"\"\n",
    "输入n个整数，找出其中最小的K个数。例如输入4,5,1,6,2,7,3,8这8个数字，\n",
    "则最小的4个数字是1,2,3,4,。\n",
    "\"\"\"\n",
    "# 原文：https://blog.csdn.net/u010005281/article/details/80084994\n",
    "# 最大堆，O(nLogk)， 也可以尝试使用红黑树\n",
    "\n",
    "\n",
    "import heapq\n",
    "\n",
    "\n",
    "def GetLeastNumbers_Solution(tinput, k):\n",
    "    if len(tinput) < k:\n",
    "        return []\n",
    "    res = []\n",
    "    for i in tinput:\n",
    "        heapq.heappush(res, -i) if len(res) < k else heapq.heappushpop(res, -i)\n",
    "    return sorted(list(map(lambda x: -x, res)))\n",
    "\n",
    "\n",
    "# https://blog.csdn.net/fuxuemingzhu/article/details/79637795\n",
    "def GetLeastNumbers_Solution1(tinput, k):\n",
    "    if len(tinput) < k:\n",
    "        return []\n",
    "    return heapq.nsmallest(k, tinput)"
   ]
  },
  {
   "cell_type": "code",
   "execution_count": 2,
   "metadata": {
    "collapsed": false
   },
   "outputs": [
    {
     "data": {
      "text/plain": [
       "[1, 2, 2, 3, 4]"
      ]
     },
     "execution_count": 2,
     "metadata": {},
     "output_type": "execute_result"
    }
   ],
   "source": [
    "GetLeastNumbers_Solution([1,3,2,4,5,6,2,5], 5)"
   ]
  },
  {
   "cell_type": "code",
   "execution_count": 3,
   "metadata": {
    "collapsed": false
   },
   "outputs": [
    {
     "data": {
      "text/plain": [
       "[1, 2, 2]"
      ]
     },
     "execution_count": 3,
     "metadata": {},
     "output_type": "execute_result"
    }
   ],
   "source": [
    "GetLeastNumbers_Solution1([1,3,2,4,5,6,2,5], 3)"
   ]
  },
  {
   "cell_type": "code",
   "execution_count": null,
   "metadata": {
    "collapsed": true
   },
   "outputs": [],
   "source": []
  }
 ],
 "metadata": {
  "anaconda-cloud": {},
  "kernelspec": {
   "display_name": "Python [conda env:liuzhen]",
   "language": "python",
   "name": "conda-env-liuzhen-py"
  },
  "language_info": {
   "codemirror_mode": {
    "name": "ipython",
    "version": 3
   },
   "file_extension": ".py",
   "mimetype": "text/x-python",
   "name": "python",
   "nbconvert_exporter": "python",
   "pygments_lexer": "ipython3",
   "version": "3.6.2"
  }
 },
 "nbformat": 4,
 "nbformat_minor": 1
}
