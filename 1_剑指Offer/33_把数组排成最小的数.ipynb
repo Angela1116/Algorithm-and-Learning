{
 "cells": [
  {
   "cell_type": "code",
   "execution_count": 1,
   "metadata": {
    "collapsed": false
   },
   "outputs": [],
   "source": [
    "\"\"\"\n",
    "输入一个正整数数组，把数组里所有数字拼接起来排成一个数，打印所有能够拼接出的数字中最小的\n",
    "一个。例如输入数组{3，32，321}，则打印出这三个数字能排成的最小数字为321323。\n",
    "\"\"\"\n",
    "# https://blog.csdn.net/yurenguowang/article/details/80568996\n",
    "# https://github.com/Jack-Lee-Hiter/AlgorithmsByPython/blob/master/Target%20Offer/%E6%8A%8A%E6%95%B0%E7%BB%84%E6%8E%92%E6%88%90%E6%9C%80%E5%B0%8F%E7%9A%84%E6%95%B0.py\n",
    "\n",
    "from functools import cmp_to_key\n",
    "\n",
    "def PrintMinNumber(numbers: list):\n",
    "        if numbers is None or len(numbers) == 0:\n",
    "            return \"\"\n",
    "        # 映射为字符串数组\n",
    "        numbers = list(map(str, numbers))\n",
    "        \n",
    "        numbers.sort(key= cmp_to_key(lambda x, y: int(x+y)-int(y+x)))\n",
    "\n",
    "        return \"\".join(numbers)"
   ]
  },
  {
   "cell_type": "code",
   "execution_count": 2,
   "metadata": {
    "collapsed": false
   },
   "outputs": [
    {
     "data": {
      "text/plain": [
       "'321323'"
      ]
     },
     "execution_count": 2,
     "metadata": {},
     "output_type": "execute_result"
    }
   ],
   "source": [
    "PrintMinNumber([3, 32, 321])"
   ]
  },
  {
   "cell_type": "code",
   "execution_count": 3,
   "metadata": {
    "collapsed": false
   },
   "outputs": [
    {
     "data": {
      "text/plain": [
       "'123456789'"
      ]
     },
     "execution_count": 3,
     "metadata": {},
     "output_type": "execute_result"
    }
   ],
   "source": [
    "PrintMinNumber([9,8,7,6,5,4,3,2,1])"
   ]
  },
  {
   "cell_type": "code",
   "execution_count": null,
   "metadata": {
    "collapsed": true
   },
   "outputs": [],
   "source": []
  }
 ],
 "metadata": {
  "anaconda-cloud": {},
  "kernelspec": {
   "display_name": "Python [conda env:liuzhen]",
   "language": "python",
   "name": "conda-env-liuzhen-py"
  },
  "language_info": {
   "codemirror_mode": {
    "name": "ipython",
    "version": 3
   },
   "file_extension": ".py",
   "mimetype": "text/x-python",
   "name": "python",
   "nbconvert_exporter": "python",
   "pygments_lexer": "ipython3",
   "version": "3.6.2"
  }
 },
 "nbformat": 4,
 "nbformat_minor": 1
}
