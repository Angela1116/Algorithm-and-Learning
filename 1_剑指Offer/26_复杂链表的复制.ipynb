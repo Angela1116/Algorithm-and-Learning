{
 "cells": [
  {
   "cell_type": "code",
   "execution_count": 1,
   "metadata": {
    "collapsed": true
   },
   "outputs": [],
   "source": [
    "\"\"\"\n",
    "输入一个复杂链表（每个节点中有节点值，以及两个指针，一个指向下一个节点，另一个特殊指针指向任意一个节点），返回结果为复制后复杂链表的head。\n",
    "（注意，输出结果中请不要返回参数中的节点引用，否则判题程序会直接返回空）\n",
    "\"\"\"\n",
    "# 原文：https://blog.csdn.net/fuxuemingzhu/article/details/79622359\n",
    "\n",
    "\n",
    "# -*- coding:utf-8 -*-\n",
    "# class RandomListNode:\n",
    "#     def __init__(self, x):\n",
    "#         self.label = x\n",
    "#         self.next = None\n",
    "#         self.random = None\n",
    "class Solution:\n",
    "    # 返回 RandomListNode\n",
    "    def Clone(self, pHead):\n",
    "        self.cloneNodes(pHead)\n",
    "        self.connectSiblingNodes(pHead)\n",
    "        return self.reconnectNodes(pHead)\n",
    "\n",
    "    def cloneNodes(self, pHead):\n",
    "        pNode = pHead\n",
    "        while pNode:\n",
    "            pCloned = RandomListNode(pNode.label)\n",
    "            pCloned.next = pNode.next\n",
    "            pNode.next = pCloned\n",
    "            pNode = pCloned.next\n",
    "\n",
    "    def connectSiblingNodes(self, pHead):\n",
    "        pNode = pHead\n",
    "        while pNode:\n",
    "            pclone = pNode.next\n",
    "            if pNode.random:\n",
    "                pclone.random = pNode.random.next\n",
    "            pNode = pclone.next\n",
    "\n",
    "    def reconnectNodes(self, pHead):\n",
    "        pNode = pHead\n",
    "        pCloneHead = None\n",
    "        pCloneNode = None\n",
    "        if pNode:\n",
    "            pCloneHead = pCloneNode = pNode.next\n",
    "            pNode.next = pCloneNode.next\n",
    "            pNode = pNode.next\n",
    "        while pNode:\n",
    "            pCloneNode.next, pCloneNode = pNode.next, pCloneNode.next\n",
    "            pNode.next, pNode = pCloneNode.next, pNode.next\n",
    "        return pCloneHead"
   ]
  },
  {
   "cell_type": "code",
   "execution_count": null,
   "metadata": {
    "collapsed": true
   },
   "outputs": [],
   "source": []
  }
 ],
 "metadata": {
  "anaconda-cloud": {},
  "kernelspec": {
   "display_name": "Python [conda env:liuzhen]",
   "language": "python",
   "name": "conda-env-liuzhen-py"
  },
  "language_info": {
   "codemirror_mode": {
    "name": "ipython",
    "version": 3
   },
   "file_extension": ".py",
   "mimetype": "text/x-python",
   "name": "python",
   "nbconvert_exporter": "python",
   "pygments_lexer": "ipython3",
   "version": "3.6.2"
  }
 },
 "nbformat": 4,
 "nbformat_minor": 1
}
