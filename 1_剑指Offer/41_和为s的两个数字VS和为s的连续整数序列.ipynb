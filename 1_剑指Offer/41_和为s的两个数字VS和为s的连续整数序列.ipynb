{
 "cells": [
  {
   "cell_type": "code",
   "execution_count": 1,
   "metadata": {
    "collapsed": false,
    "nbpresent": {
     "id": "25291823-96e1-4d69-a4cb-e5a0e6438a06"
    },
    "slideshow": {
     "slide_type": "notes"
    }
   },
   "outputs": [],
   "source": [
    "\"\"\"\n",
    "输入一个递增排序的数组和一个数字S，在数组中查找两个数，是的他们的和正好是S，\n",
    "如果有多对数字的和等于S，输出两个数的乘积最小的。\n",
    "\"\"\"\n",
    "# 原文：https://blog.csdn.net/u010005281/article/details/80100178\n",
    "\n",
    "\n",
    "def FindNumbersWithSum(self, array, tsum):\n",
    "    left, right = 0, len(array)-1\n",
    "    while left < right:\n",
    "        if array[left] + array[right] > tsum:\n",
    "            right -= 1\n",
    "        elif array[left] + array[right] < tsum:\n",
    "            left += 1\n",
    "        else:\n",
    "            return [array[left], array[right]]\n",
    "    return []"
   ]
  },
  {
   "cell_type": "code",
   "execution_count": 2,
   "metadata": {
    "collapsed": false,
    "scrolled": true
   },
   "outputs": [],
   "source": [
    "\"\"\"\n",
    "输出所有和为S的连续正数序列。序列内按照从小至大的顺序，序列间按照开始数字从小到大的顺序。\n",
    "\"\"\"\n",
    "# 原文：https://blog.csdn.net/fuxuemingzhu/article/details/79698467\n",
    "\n",
    "\n",
    "class Solution:\n",
    "    def FindContinuousSequence(self, tsum):\n",
    "        small, big = 1, 2\n",
    "        _len = (tsum + 1) / 2\n",
    "        curr = small + big\n",
    "        res = []\n",
    "        while small < _len:\n",
    "            if curr == tsum:\n",
    "                res.append(range(small, big + 1))\n",
    "            while curr > tsum and small < _len:\n",
    "                curr -= small\n",
    "                small += 1\n",
    "                if curr == tsum:\n",
    "                    res.append(range(small, big + 1))\n",
    "            big += 1\n",
    "            curr += big\n",
    "        return res"
   ]
  },
  {
   "cell_type": "code",
   "execution_count": null,
   "metadata": {
    "collapsed": true
   },
   "outputs": [],
   "source": []
  }
 ],
 "metadata": {
  "anaconda-cloud": {},
  "kernelspec": {
   "display_name": "Python [conda env:liuzhen]",
   "language": "python",
   "name": "conda-env-liuzhen-py"
  },
  "language_info": {
   "codemirror_mode": {
    "name": "ipython",
    "version": 3
   },
   "file_extension": ".py",
   "mimetype": "text/x-python",
   "name": "python",
   "nbconvert_exporter": "python",
   "pygments_lexer": "ipython3",
   "version": "3.6.2"
  },
  "nbpresent": {
   "slides": {
    "86ac9cf2-27b3-4f22-8e9d-64d952028a3e": {
     "id": "86ac9cf2-27b3-4f22-8e9d-64d952028a3e",
     "prev": null,
     "regions": {}
    }
   },
   "themes": {}
  }
 },
 "nbformat": 4,
 "nbformat_minor": 1
}
