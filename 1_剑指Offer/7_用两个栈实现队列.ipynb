{
 "cells": [
  {
   "cell_type": "code",
   "execution_count": 1,
   "metadata": {
    "collapsed": true
   },
   "outputs": [],
   "source": [
    "\"\"\"\n",
    "用两个栈实现一个队列。队列的声明如下，请实现它的两个函数appendTail和deleteHead，分别完成在队列尾部插入结点和在队列头部删除结点的功能。\n",
    "\"\"\"\n",
    "\n",
    "# 参考文献：https://blog.csdn.net/songyunli1111/article/details/79348034\n",
    "\n",
    "\n",
    "class Queue:\n",
    "    def __init__(self):\n",
    "        self.stockA = []\n",
    "        self.stockB = []\n",
    "\n",
    "    def push(self, node):\n",
    "        self.stockA.append(node)\n",
    "\n",
    "    def pop(self):\n",
    "        if self.stockB == []:\n",
    "            if self.stockA == []:\n",
    "                return None\n",
    "            else:\n",
    "                for i in range(len(self.stockA)):\n",
    "                    self.stockB.append(self.stockA.pop())\n",
    "        return self.stockB.pop()"
   ]
  },
  {
   "cell_type": "code",
   "execution_count": 2,
   "metadata": {
    "collapsed": false
   },
   "outputs": [
    {
     "name": "stdout",
     "output_type": "stream",
     "text": [
      "[0, 1, 2, 3, 4]\n",
      "0 ,1 ,2 ,3 ,4 ,"
     ]
    }
   ],
   "source": [
    "times = 5\n",
    "testList = list(range(times))\n",
    "testQueue = Queue()\n",
    "for i in range(times):\n",
    "    testQueue.push(testList[i])\n",
    "print(testList)\n",
    "for i in range(times):\n",
    "    print(testQueue.pop(), ',', end='')"
   ]
  },
  {
   "cell_type": "code",
   "execution_count": null,
   "metadata": {
    "collapsed": true
   },
   "outputs": [],
   "source": []
  }
 ],
 "metadata": {
  "anaconda-cloud": {},
  "kernelspec": {
   "display_name": "Python [conda env:liuzhen]",
   "language": "python",
   "name": "conda-env-liuzhen-py"
  },
  "language_info": {
   "codemirror_mode": {
    "name": "ipython",
    "version": 3
   },
   "file_extension": ".py",
   "mimetype": "text/x-python",
   "name": "python",
   "nbconvert_exporter": "python",
   "pygments_lexer": "ipython3",
   "version": "3.6.2"
  }
 },
 "nbformat": 4,
 "nbformat_minor": 1
}
