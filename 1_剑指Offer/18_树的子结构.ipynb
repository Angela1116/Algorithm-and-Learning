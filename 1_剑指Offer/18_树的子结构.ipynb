{
 "cells": [
  {
   "cell_type": "code",
   "execution_count": 1,
   "metadata": {
    "collapsed": false
   },
   "outputs": [],
   "source": [
    "\"\"\"\n",
    "题目描述：\n",
    "输入两棵二叉树A，B，判断B是不是A的子结构。（ps：我们约定空树不是任意一个树的子结构）\n",
    "\"\"\"\n",
    "# 原文：https://blog.csdn.net/u010636181/article/details/78261445\n",
    "\n",
    "\n",
    "class TreeNode():\n",
    "    def __init__(self, x):\n",
    "        self.val = x\n",
    "        self.left = None\n",
    "        self.right = None\n",
    "\n",
    "\n",
    "def HasSubtree(pRoot1, pRoot2):\n",
    "    if not pRoot1 or pRoot2:\n",
    "        return False\n",
    "    return is_Subtree(pRoot1, pRoot2) or HasSubtree(pRoot1.left, pRoot2) or HasSubtree(pRoot1.right, pRoot2)\n",
    "\n",
    "\n",
    "def is_Subtree(A, B):\n",
    "    if not B:\n",
    "        return True\n",
    "    if not A or A.val != B.val:\n",
    "        return False\n",
    "    return is_Subtree(A.left, B.left) and is_Subtree(A.right, B.right)"
   ]
  },
  {
   "cell_type": "code",
   "execution_count": null,
   "metadata": {
    "collapsed": true
   },
   "outputs": [],
   "source": []
  }
 ],
 "metadata": {
  "anaconda-cloud": {},
  "kernelspec": {
   "display_name": "Python [conda env:liuzhen]",
   "language": "python",
   "name": "conda-env-liuzhen-py"
  },
  "language_info": {
   "codemirror_mode": {
    "name": "ipython",
    "version": 3
   },
   "file_extension": ".py",
   "mimetype": "text/x-python",
   "name": "python",
   "nbconvert_exporter": "python",
   "pygments_lexer": "ipython3",
   "version": "3.6.2"
  }
 },
 "nbformat": 4,
 "nbformat_minor": 1
}
