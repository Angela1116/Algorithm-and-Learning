{
 "cells": [
  {
   "cell_type": "code",
   "execution_count": 1,
   "metadata": {
    "collapsed": true
   },
   "outputs": [],
   "source": [
    "\"\"\"\n",
    "给定一个数组A[0,1,2,..,n-1]，请构建一个数组B[0,1,2,...,n-1],其中B中的元素B[i] = \n",
    "A[0]*A[1]*...*A[i-1]*A[i+1]*...*A[n-1]。不能使用除法\n",
    "\"\"\"\n",
    "\n",
    "\n",
    "def getArrayB(arrayA: list) -> list:\n",
    "    arrayB = [1 for i in range(len(arrayA))]\n",
    "    for i in range(1, len(arrayA)):\n",
    "        arrayB[i] = arrayB[i-1] * arrayA[i-1]\n",
    "    i = len(arrayA) - 2\n",
    "    temp = 1\n",
    "    while i >= 0:\n",
    "        temp = temp * arrayA[i+1]\n",
    "        arrayB[i] = arrayB[i] * temp\n",
    "        i = i - 1\n",
    "\n",
    "    return arrayB"
   ]
  },
  {
   "cell_type": "code",
   "execution_count": null,
   "metadata": {
    "collapsed": true
   },
   "outputs": [],
   "source": []
  }
 ],
 "metadata": {
  "anaconda-cloud": {},
  "kernelspec": {
   "display_name": "Python [conda env:liuzhen]",
   "language": "python",
   "name": "conda-env-liuzhen-py"
  },
  "language_info": {
   "codemirror_mode": {
    "name": "ipython",
    "version": 3
   },
   "file_extension": ".py",
   "mimetype": "text/x-python",
   "name": "python",
   "nbconvert_exporter": "python",
   "pygments_lexer": "ipython3",
   "version": "3.6.2"
  },
  "nbpresent": {
   "slides": {
    "86ac9cf2-27b3-4f22-8e9d-64d952028a3e": {
     "id": "86ac9cf2-27b3-4f22-8e9d-64d952028a3e",
     "prev": null,
     "regions": {}
    }
   },
   "themes": {}
  }
 },
 "nbformat": 4,
 "nbformat_minor": 1
}
