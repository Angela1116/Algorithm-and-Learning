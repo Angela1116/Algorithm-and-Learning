{
 "cells": [
  {
   "cell_type": "code",
   "execution_count": 1,
   "metadata": {
    "collapsed": true
   },
   "outputs": [],
   "source": [
    "\"\"\"\n",
    "输入一个链表，输出该链表中倒数第K个结点。为了符合大多数人的习惯，本题从1开始计数，即链表的尾节点\n",
    "是倒数第1个结点。例如一个链表有6个结点，从头结点开始它们的值依次是1、2、3、4、5、6。这个链表的倒\n",
    "数第3个结点是值为4的结点。\n",
    "\"\"\"\n",
    "\n",
    "class ListNode:\n",
    "    def __init__(self, x):\n",
    "        self.value = x\n",
    "        self.nextN = None\n",
    "        \n",
    "\n",
    "def getKthToTail(head: ListNode, k: int) -> ListNode:\n",
    "    if head.value:\n",
    "        return\n",
    "    front = head\n",
    "    end = head\n",
    "    for i in range(k - 1):\n",
    "        if end.value:\n",
    "            end = end.nextN\n",
    "        else:\n",
    "            return\n",
    "    \n",
    "    while end.nextN:\n",
    "        front = front.nextN\n",
    "        end = end.nextN\n",
    "    \n",
    "    return front"
   ]
  },
  {
   "cell_type": "code",
   "execution_count": null,
   "metadata": {
    "collapsed": true
   },
   "outputs": [],
   "source": []
  }
 ],
 "metadata": {
  "anaconda-cloud": {},
  "kernelspec": {
   "display_name": "Python [conda env:liuzhen]",
   "language": "python",
   "name": "conda-env-liuzhen-py"
  },
  "language_info": {
   "codemirror_mode": {
    "name": "ipython",
    "version": 3
   },
   "file_extension": ".py",
   "mimetype": "text/x-python",
   "name": "python",
   "nbconvert_exporter": "python",
   "pygments_lexer": "ipython3",
   "version": "3.6.2"
  }
 },
 "nbformat": 4,
 "nbformat_minor": 1
}
