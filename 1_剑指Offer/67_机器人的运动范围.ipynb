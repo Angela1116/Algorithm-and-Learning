{
 "cells": [
  {
   "cell_type": "code",
   "execution_count": 1,
   "metadata": {
    "collapsed": true
   },
   "outputs": [],
   "source": [
    "\"\"\"\n",
    "地上有一个m行和n列的方格。一个机器人从坐标0,0的格子开始移动，每一次只能向左，右，上，下\n",
    "四个方向移动一格，但是不能进入行坐标和列坐标的数位之和大于k的格子。 例如，当k为18时，机\n",
    "器人能够进入方格（35,37），因为3+5+3+7 = 18。但是，它不能进入方格（35,38），\n",
    "因为3+5+3+8 = 19。请问该机器人能够达到多少个格子？\n",
    "\"\"\"\n",
    "# 原文：https://blog.csdn.net/jiangjiang_jian/article/details/81979161\n",
    "\n",
    "\n",
    "class Solution:\n",
    "    def judge(self, threshold, i, j):\n",
    "        if sum(map(int,str(i)+str(j))) <= threshold:\n",
    "            return True\n",
    "        else:\n",
    "            return False\n",
    "\n",
    "    def findgrid(self, threshold, rows, cols, matrix, i, j):\n",
    "        count = 0\n",
    "        if i<rows and j<cols and i>=0 and j>=0 and self.judge(threshold,i,j) and matrix[i][j]==0:\n",
    "            matrix[i][j] = 1\n",
    "            count = 1 + self.findgrid(threshold, rows, cols, matrix, i, j+1) \\\n",
    "            + self.findgrid(threshold, rows, cols, matrix, i, j-1) \\\n",
    "            + self.findgrid(threshold, rows, cols, matrix, i+1, j) \\\n",
    "            + self.findgrid(threshold, rows, cols, matrix, i-1, j)\n",
    "        return count\n",
    "\n",
    "    def movingCount(self, threshold, rows, cols):\n",
    "        # write code here\n",
    "        matrix = [[0 for i in range(cols)] for j in range(rows)]\n",
    "        count = self.findgrid(threshold, rows, cols, matrix, 0, 0)\n",
    "        print(matrix)\n",
    "        return count"
   ]
  },
  {
   "cell_type": "code",
   "execution_count": null,
   "metadata": {
    "collapsed": true
   },
   "outputs": [],
   "source": []
  }
 ],
 "metadata": {
  "anaconda-cloud": {},
  "kernelspec": {
   "display_name": "Python [conda env:liuzhen]",
   "language": "python",
   "name": "conda-env-liuzhen-py"
  },
  "language_info": {
   "codemirror_mode": {
    "name": "ipython",
    "version": 3
   },
   "file_extension": ".py",
   "mimetype": "text/x-python",
   "name": "python",
   "nbconvert_exporter": "python",
   "pygments_lexer": "ipython3",
   "version": "3.6.2"
  },
  "nbpresent": {
   "slides": {
    "86ac9cf2-27b3-4f22-8e9d-64d952028a3e": {
     "id": "86ac9cf2-27b3-4f22-8e9d-64d952028a3e",
     "prev": null,
     "regions": {}
    }
   },
   "themes": {}
  }
 },
 "nbformat": 4,
 "nbformat_minor": 1
}
