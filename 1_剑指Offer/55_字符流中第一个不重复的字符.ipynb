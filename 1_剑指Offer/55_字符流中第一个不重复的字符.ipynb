{
 "cells": [
  {
   "cell_type": "code",
   "execution_count": 1,
   "metadata": {},
   "outputs": [],
   "source": [
    "\"\"\"\n",
    "请实现一个函数用来找出字符流中第一个只出现一次的字符。\n",
    "例如，当从字符流中只读出前两个字符\"go\"时，第一个只出现一次的字符是\"g\"。\n",
    "当从该字符流中读出前六个字符“google\"时，第一个只出现一次的字符是\"l\"。\n",
    "\"\"\"\n",
    "# 原文：https://blog.csdn.net/Lynette_bb/article/details/74999712\n",
    "\n",
    "\n",
    "class Solution:\n",
    "    # 返回对应char\n",
    "    def __init__(self):\n",
    "        self.string_all = {}\n",
    "        self.ch = []\n",
    "        \n",
    "    def FirstAppearingOnce(self):\n",
    "        # write code here\n",
    "        if self.string_all is None:\n",
    "            return '#'\n",
    "        for i in self.ch:\n",
    "            if self.string_all[i] == 1:\n",
    "                return i\n",
    "        return '#'\n",
    "    \n",
    "    def Insert(self, char):\n",
    "        # write code here\n",
    "        self.ch.append(char)\n",
    "        if char in self.string_all:\n",
    "            self.string_all[char] = self.string_all[char] + 1\n",
    "        else:\n",
    "            self.string_all[char] = 1"
   ]
  },
  {
   "cell_type": "code",
   "execution_count": 2,
   "metadata": {},
   "outputs": [
    {
     "name": "stdout",
     "output_type": "stream",
     "text": [
      "a\n"
     ]
    }
   ],
   "source": [
    "A = Solution()\n",
    "for c in \"googale\":\n",
    "    A.Insert(c)\n",
    "print(A.FirstAppearingOnce())"
   ]
  },
  {
   "cell_type": "code",
   "execution_count": null,
   "metadata": {},
   "outputs": [],
   "source": []
  }
 ],
 "metadata": {
  "kernelspec": {
   "display_name": "Python 3",
   "language": "python",
   "name": "python3"
  },
  "language_info": {
   "codemirror_mode": {
    "name": "ipython",
    "version": 3
   },
   "file_extension": ".py",
   "mimetype": "text/x-python",
   "name": "python",
   "nbconvert_exporter": "python",
   "pygments_lexer": "ipython3",
   "version": "3.6.4"
  }
 },
 "nbformat": 4,
 "nbformat_minor": 2
}
