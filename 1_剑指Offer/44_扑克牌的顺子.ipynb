{
 "cells": [
  {
   "cell_type": "code",
   "execution_count": 1,
   "metadata": {
    "collapsed": true
   },
   "outputs": [],
   "source": [
    "\"\"\"\n",
    "从扑克牌中随机抽5张牌，判断是不是一个顺子，即这5张牌是不是连续的。2~10为数字本身，\n",
    "A为1，J为11，Q为12，K为13，而大小王可以看成任意数字。\n",
    "\"\"\"\n",
    "# 原文：https://blog.csdn.net/fuxuemingzhu/article/details/79702017\n",
    "\n",
    "\n",
    "class Solution:\n",
    "    def IsContinuous(self, numbers):\n",
    "        if not numbers:\n",
    "            return False\n",
    "        numbers.sort()\n",
    "        zeros = numbers.count(0)\n",
    "        gaps = 0\n",
    "        small = zeros\n",
    "        big = small + 1\n",
    "        while big < len(numbers):\n",
    "            if numbers[small] == numbers[big]:\n",
    "                return False\n",
    "            gaps += numbers[big] - numbers[small] - 1\n",
    "            small = big\n",
    "            big += 1\n",
    "        return gaps <= zeros"
   ]
  },
  {
   "cell_type": "code",
   "execution_count": null,
   "metadata": {
    "collapsed": true
   },
   "outputs": [],
   "source": []
  }
 ],
 "metadata": {
  "anaconda-cloud": {},
  "kernelspec": {
   "display_name": "Python [conda env:liuzhen]",
   "language": "python",
   "name": "conda-env-liuzhen-py"
  },
  "language_info": {
   "codemirror_mode": {
    "name": "ipython",
    "version": 3
   },
   "file_extension": ".py",
   "mimetype": "text/x-python",
   "name": "python",
   "nbconvert_exporter": "python",
   "pygments_lexer": "ipython3",
   "version": "3.6.2"
  },
  "nbpresent": {
   "slides": {
    "86ac9cf2-27b3-4f22-8e9d-64d952028a3e": {
     "id": "86ac9cf2-27b3-4f22-8e9d-64d952028a3e",
     "prev": null,
     "regions": {}
    }
   },
   "themes": {}
  }
 },
 "nbformat": 4,
 "nbformat_minor": 1
}
