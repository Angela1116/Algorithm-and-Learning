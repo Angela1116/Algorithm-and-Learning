{
 "cells": [
  {
   "cell_type": "code",
   "execution_count": 1,
   "metadata": {
    "collapsed": true
   },
   "outputs": [],
   "source": [
    "\"\"\"\n",
    "输入一个英文句子，翻转句子中单词的顺序，但单词内字啊的顺序不变。\n",
    "为简单起见，标点符号和普通字母一样处理。\n",
    "\"\"\"\n",
    "# 原文：https://blog.csdn.net/fuxuemingzhu/article/details/79700077 \n",
    "\n",
    "class Solution:\n",
    "    def ReverseSentence(self, s):\n",
    "        if not s: return s\n",
    "        s = list(s)\n",
    "        self.reverse(s, 0, len(s) - 1)\n",
    "        start, end = 0, 0\n",
    "        while start < len(s):\n",
    "            if s[start] == ' ':\n",
    "                start += 1\n",
    "                end += 1\n",
    "            elif end == len(s) or s[end] == ' ':\n",
    "                self.reverse(s, start, end - 1)\n",
    "                end += 1\n",
    "                start = end\n",
    "            else:\n",
    "                end += 1\n",
    "        return ''.join(s)\n",
    "\n",
    "    def reverse(self, s, start, end):\n",
    "        while start < end:\n",
    "            s[start], s[end] = s[end], s[start]\n",
    "            start += 1\n",
    "            end -= 1"
   ]
  },
  {
   "cell_type": "code",
   "execution_count": 2,
   "metadata": {
    "collapsed": false
   },
   "outputs": [
    {
     "data": {
      "text/plain": [
       "'student. a am I'"
      ]
     },
     "execution_count": 2,
     "metadata": {},
     "output_type": "execute_result"
    }
   ],
   "source": [
    "Solution().ReverseSentence(\"I am a student.\")"
   ]
  },
  {
   "cell_type": "code",
   "execution_count": 3,
   "metadata": {
    "collapsed": true
   },
   "outputs": [],
   "source": [
    "\"\"\"\n",
    "例如，字符序列S=\"abcXYZdef\",要求输出循环左移3位后的结果，即\"XYZdefabc\"。\n",
    "是不是很简单？OK，搞定它！\n",
    "\"\"\"\n",
    "# 原文：https://blog.csdn.net/fuxuemingzhu/article/details/79701352\n",
    "\n",
    "\n",
    "class Solution:\n",
    "    def LeftRotateString(self, s, n):\n",
    "        if not s:\n",
    "            return s\n",
    "        s = list(s)\n",
    "        self.reverse(s, 0, n - 1)\n",
    "        self.reverse(s, n, len(s) - 1)\n",
    "        self.reverse(s, 0, len(s) - 1)\n",
    "        return ''.join(s)\n",
    "\n",
    "    def reverse(self, s, start, end):\n",
    "        while start < end:\n",
    "            s[start], s[end] = s[end], s[start]\n",
    "            start += 1\n",
    "            end -= 1"
   ]
  },
  {
   "cell_type": "code",
   "execution_count": 4,
   "metadata": {
    "collapsed": false
   },
   "outputs": [
    {
     "data": {
      "text/plain": [
       "'XYZdefabc'"
      ]
     },
     "execution_count": 4,
     "metadata": {},
     "output_type": "execute_result"
    }
   ],
   "source": [
    "Solution().LeftRotateString(\"abcXYZdef\", 3)"
   ]
  },
  {
   "cell_type": "code",
   "execution_count": null,
   "metadata": {
    "collapsed": true
   },
   "outputs": [],
   "source": []
  }
 ],
 "metadata": {
  "anaconda-cloud": {},
  "kernelspec": {
   "display_name": "Python [conda env:liuzhen]",
   "language": "python",
   "name": "conda-env-liuzhen-py"
  },
  "language_info": {
   "codemirror_mode": {
    "name": "ipython",
    "version": 3
   },
   "file_extension": ".py",
   "mimetype": "text/x-python",
   "name": "python",
   "nbconvert_exporter": "python",
   "pygments_lexer": "ipython3",
   "version": "3.6.2"
  },
  "nbpresent": {
   "slides": {
    "86ac9cf2-27b3-4f22-8e9d-64d952028a3e": {
     "id": "86ac9cf2-27b3-4f22-8e9d-64d952028a3e",
     "prev": null,
     "regions": {}
    }
   },
   "themes": {}
  }
 },
 "nbformat": 4,
 "nbformat_minor": 1
}
