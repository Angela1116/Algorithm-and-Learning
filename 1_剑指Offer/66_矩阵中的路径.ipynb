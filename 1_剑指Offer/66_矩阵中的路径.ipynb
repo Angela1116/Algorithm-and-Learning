{
 "cells": [
  {
   "cell_type": "code",
   "execution_count": 1,
   "metadata": {
    "collapsed": true
   },
   "outputs": [],
   "source": [
    "\"\"\"\n",
    "请设计一个函数，用来判断在一个矩阵中是否存在一条包含某字符串所有字符的路径。\n",
    "路径可以从矩阵中的任意一个格子开始，每一步可以在矩阵中向左，向右，向上，向下移动一个格子。\n",
    "如果一条路径经过了矩阵中的某一个格子，则该路径不能再进入该格子。 \n",
    "例如 a b c e s f c s a d e e 矩阵中包含一条字符串”bcced”的路径，\n",
    "但是矩阵中不包含”abcb”路径，因为字符串的第一个字符b占据了矩阵中的第一行第二个格子之后，\n",
    "路径不能再次进入该格子。\n",
    "\"\"\"\n",
    "# 原文：https://blog.csdn.net/jiangjiang_jian/article/details/81979161\n",
    "\n",
    "\n",
    "class Solution:\n",
    "    def hasPath(self, matrix, rows, cols, path):\n",
    "        # write code here\n",
    "        assistMatrix = [True]*rows*cols\n",
    "        for i in range(rows):\n",
    "            for j in range(cols):\n",
    "                if(self.hasPathAtAStartPoint(matrix, rows, cols, i, j, path, assistMatrix)):\n",
    "                    return True\n",
    "        return False\n",
    "\n",
    "    def hasPathAtAStartPoint(self, matrix, rows, cols, i, j, path, assistMatrix):\n",
    "        if not path:\n",
    "            return True\n",
    "        index = i*cols+j\n",
    "        if i < 0 or i >= rows or j < 0 or j >= cols or matrix[index] != path[0] or assistMatrix[index] == False:\n",
    "            return False\n",
    "        assistMatrix[index] = False\n",
    "        if(self.hasPathAtAStartPoint(matrix, rows, cols, i+1, j, path[1:], assistMatrix) or\n",
    "           self.hasPathAtAStartPoint(matrix, rows, cols, i-1, j, path[1:], assistMatrix) or\n",
    "           self.hasPathAtAStartPoint(matrix, rows, cols, i, j-1, path[1:], assistMatrix) or\n",
    "           self.hasPathAtAStartPoint(matrix, rows, cols, i, j+1, path[1:], assistMatrix)):\n",
    "            return True\n",
    "        assistMatrix[index] = True\n",
    "        return False"
   ]
  },
  {
   "cell_type": "code",
   "execution_count": null,
   "metadata": {
    "collapsed": true
   },
   "outputs": [],
   "source": []
  }
 ],
 "metadata": {
  "anaconda-cloud": {},
  "kernelspec": {
   "display_name": "Python [conda env:liuzhen]",
   "language": "python",
   "name": "conda-env-liuzhen-py"
  },
  "language_info": {
   "codemirror_mode": {
    "name": "ipython",
    "version": 3
   },
   "file_extension": ".py",
   "mimetype": "text/x-python",
   "name": "python",
   "nbconvert_exporter": "python",
   "pygments_lexer": "ipython3",
   "version": "3.6.2"
  },
  "nbpresent": {
   "slides": {
    "86ac9cf2-27b3-4f22-8e9d-64d952028a3e": {
     "id": "86ac9cf2-27b3-4f22-8e9d-64d952028a3e",
     "prev": null,
     "regions": {}
    }
   },
   "themes": {}
  }
 },
 "nbformat": 4,
 "nbformat_minor": 1
}
