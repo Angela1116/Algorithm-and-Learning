{
 "cells": [
  {
   "cell_type": "code",
   "execution_count": 1,
   "metadata": {
    "collapsed": false
   },
   "outputs": [],
   "source": [
    "\"\"\"\n",
    "在数组中的两个数字如果前面一个数字大于后面的数字，则这两个数字组成一个逆序对。\n",
    "例如，输入一个数组[7,5,6,4]， 逆序对分别是(7,6)、(7,5)、(7,4)、(6,4)、(5,4)\n",
    "\"\"\"\n",
    "# 原文：https://blog.csdn.net/lzq20115395/article/details/79554591\n",
    "\n",
    "global count\n",
    "count = 0\n",
    "\n",
    "\n",
    "def inversePairs(arrayA: list) -> int:\n",
    "    global count\n",
    "    if len(arrayA) <= 1:\n",
    "        return arrayA\n",
    "\n",
    "    mid = int(len(arrayA)/2)\n",
    "    left = inversePairs(arrayA[:mid])\n",
    "    right = inversePairs(arrayA[mid:])\n",
    "    l = 0\n",
    "    r = 0\n",
    "    result = []\n",
    "    while l < len(left) and r < len(right):\n",
    "        if left[l] <= right[r]:\n",
    "            result.append(left[l])\n",
    "            l = l + 1\n",
    "        else:\n",
    "            while left[l] > right[r]:\n",
    "                result.append(right[r])\n",
    "                r = r + 1\n",
    "                if r >= len(right):\n",
    "                    break\n",
    "            count = count + r\n",
    "\n",
    "    result = result + left[l:]\n",
    "    result = result + right[r:]\n",
    "    return result"
   ]
  },
  {
   "cell_type": "code",
   "execution_count": 2,
   "metadata": {
    "collapsed": false
   },
   "outputs": [
    {
     "name": "stdout",
     "output_type": "stream",
     "text": [
      "5\n"
     ]
    }
   ],
   "source": [
    "result = inversePairs([7,5,6,4])\n",
    "print(count)"
   ]
  },
  {
   "cell_type": "code",
   "execution_count": null,
   "metadata": {
    "collapsed": true
   },
   "outputs": [],
   "source": []
  }
 ],
 "metadata": {
  "anaconda-cloud": {},
  "kernelspec": {
   "display_name": "Python [conda env:liuzhen]",
   "language": "python",
   "name": "conda-env-liuzhen-py"
  },
  "language_info": {
   "codemirror_mode": {
    "name": "ipython",
    "version": 3
   },
   "file_extension": ".py",
   "mimetype": "text/x-python",
   "name": "python",
   "nbconvert_exporter": "python",
   "pygments_lexer": "ipython3",
   "version": "3.6.2"
  }
 },
 "nbformat": 4,
 "nbformat_minor": 1
}
