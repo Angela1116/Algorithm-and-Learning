{
 "cells": [
  {
   "cell_type": "code",
   "execution_count": 1,
   "metadata": {
    "collapsed": false
   },
   "outputs": [],
   "source": [
    "\"\"\"\n",
    "输入两个递增排序的链表，合并这两个链表并使新链表中的结点仍然是按照递增排序的。\n",
    "\"\"\"\n",
    "\n",
    "\n",
    "class ListNode:\n",
    "    def __init__(self, x=None):\n",
    "        self.value = x\n",
    "        self, nextN = None\n",
    "\n",
    "\n",
    "def mergeList(head1: ListNode, head2: ListNode) -> ListNode:\n",
    "    if head1 is None:\n",
    "        return head2\n",
    "    elif head2 is None:\n",
    "        return head1\n",
    "\n",
    "    mergeHead = ListNode(None)\n",
    "    if head1.value < head2.value:\n",
    "        mergeHead = head1\n",
    "        mergeHead.nextN = mergeList(head1.nextN, head2)\n",
    "    else:\n",
    "        mergeHead = head2\n",
    "        mergeHead.nextN = mergeList(head1, head2.nextN)\n",
    "\n",
    "    return mergeHead"
   ]
  },
  {
   "cell_type": "code",
   "execution_count": null,
   "metadata": {
    "collapsed": true
   },
   "outputs": [],
   "source": []
  }
 ],
 "metadata": {
  "anaconda-cloud": {},
  "kernelspec": {
   "display_name": "Python [conda env:liuzhen]",
   "language": "python",
   "name": "conda-env-liuzhen-py"
  },
  "language_info": {
   "codemirror_mode": {
    "name": "ipython",
    "version": 3
   },
   "file_extension": ".py",
   "mimetype": "text/x-python",
   "name": "python",
   "nbconvert_exporter": "python",
   "pygments_lexer": "ipython3",
   "version": "3.6.2"
  }
 },
 "nbformat": 4,
 "nbformat_minor": 1
}
