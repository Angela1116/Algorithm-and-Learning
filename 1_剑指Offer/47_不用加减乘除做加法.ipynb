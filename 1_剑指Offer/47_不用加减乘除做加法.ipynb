{
 "cells": [
  {
   "cell_type": "code",
   "execution_count": 1,
   "metadata": {
    "collapsed": true
   },
   "outputs": [],
   "source": [
    "\"\"\"\n",
    "写一个函数，求两个整数之和，要求在函数体内不得使用+、-、*、\\四则运算符号。\n",
    "\"\"\"\n",
    "\n",
    "\n",
    "def getAdd(num1: int, num2: int) -> int:\n",
    "    _sum = 0\n",
    "    temp = 0\n",
    "    while num2 != 0:\n",
    "        _sum = num1 ^ num2\n",
    "        temp = (num1 & num2) << 1\n",
    "        num1 = _sum\n",
    "        print(\"num1 = \", num1)\n",
    "        num2 = temp\n",
    "        print(\"num2 = \", num2)\n",
    "\n",
    "    return num1"
   ]
  },
  {
   "cell_type": "code",
   "execution_count": 2,
   "metadata": {
    "collapsed": false
   },
   "outputs": [
    {
     "name": "stdout",
     "output_type": "stream",
     "text": [
      "num1 =  20\n",
      "num2 =  2\n",
      "num1 =  22\n",
      "num2 =  0\n"
     ]
    },
    {
     "data": {
      "text/plain": [
       "22"
      ]
     },
     "execution_count": 2,
     "metadata": {},
     "output_type": "execute_result"
    }
   ],
   "source": [
    "getAdd(5, 17)"
   ]
  },
  {
   "cell_type": "code",
   "execution_count": null,
   "metadata": {
    "collapsed": true
   },
   "outputs": [],
   "source": []
  }
 ],
 "metadata": {
  "anaconda-cloud": {},
  "kernelspec": {
   "display_name": "Python [conda env:liuzhen]",
   "language": "python",
   "name": "conda-env-liuzhen-py"
  },
  "language_info": {
   "codemirror_mode": {
    "name": "ipython",
    "version": 3
   },
   "file_extension": ".py",
   "mimetype": "text/x-python",
   "name": "python",
   "nbconvert_exporter": "python",
   "pygments_lexer": "ipython3",
   "version": "3.6.2"
  },
  "nbpresent": {
   "slides": {
    "86ac9cf2-27b3-4f22-8e9d-64d952028a3e": {
     "id": "86ac9cf2-27b3-4f22-8e9d-64d952028a3e",
     "prev": null,
     "regions": {}
    }
   },
   "themes": {}
  }
 },
 "nbformat": 4,
 "nbformat_minor": 1
}
