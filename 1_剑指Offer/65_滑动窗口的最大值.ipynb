{
 "cells": [
  {
   "cell_type": "code",
   "execution_count": 1,
   "metadata": {
    "collapsed": true
   },
   "outputs": [],
   "source": [
    "\"\"\"\n",
    "给定一个数组和一个滑动窗口的大小，请找出所有滑动窗口里的最大值。\n",
    "例如，如果输入数组 {2，3，4，6，2，5，1} 及滑动窗口的大小 3，\n",
    "那么一定存在 6 个滑动窗口，它们的最大值分别为 {4，4，6，6，6，5}。\n",
    "\"\"\"\n",
    "# 原文：https://blog.csdn.net/qq_20141867/article/details/81088705\n",
    "\n",
    "\n",
    "class Solution:\n",
    "    def maxInWindows(self, num, size):\n",
    "        # write code here\n",
    "        # 存放可能是最大值的下标\n",
    "        maxqueue = []\n",
    "        # 存放窗口中最大值\n",
    "        maxlist = []\n",
    "        n = len(num)\n",
    "        # 参数检验\n",
    "        if n == 0 or size == 0 or size > n:\n",
    "            return maxlist\n",
    "        for i in range(n):\n",
    "            # 判断队首下标对应的元素是否已经滑出窗口\n",
    "            if len(maxqueue) > 0 and i - size >= maxqueue[0]:\n",
    "                maxqueue.pop(0)\n",
    "            while len(maxqueue) > 0 and num[i] > num[maxqueue[-1]]:\n",
    "                maxqueue.pop()\n",
    "            maxqueue.append(i)\n",
    "            if i >= size - 1:\n",
    "                maxlist.append(num[maxqueue[0]])\n",
    "        return maxlist"
   ]
  },
  {
   "cell_type": "code",
   "execution_count": null,
   "metadata": {
    "collapsed": true
   },
   "outputs": [],
   "source": []
  }
 ],
 "metadata": {
  "anaconda-cloud": {},
  "kernelspec": {
   "display_name": "Python [conda env:liuzhen]",
   "language": "python",
   "name": "conda-env-liuzhen-py"
  },
  "language_info": {
   "codemirror_mode": {
    "name": "ipython",
    "version": 3
   },
   "file_extension": ".py",
   "mimetype": "text/x-python",
   "name": "python",
   "nbconvert_exporter": "python",
   "pygments_lexer": "ipython3",
   "version": "3.6.2"
  },
  "nbpresent": {
   "slides": {
    "86ac9cf2-27b3-4f22-8e9d-64d952028a3e": {
     "id": "86ac9cf2-27b3-4f22-8e9d-64d952028a3e",
     "prev": null,
     "regions": {}
    }
   },
   "themes": {}
  }
 },
 "nbformat": 4,
 "nbformat_minor": 1
}
