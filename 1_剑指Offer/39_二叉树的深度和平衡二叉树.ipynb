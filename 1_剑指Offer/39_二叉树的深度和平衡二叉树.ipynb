{
 "cells": [
  {
   "cell_type": "code",
   "execution_count": 1,
   "metadata": {
    "collapsed": false,
    "nbpresent": {
     "id": "25291823-96e1-4d69-a4cb-e5a0e6438a06"
    },
    "slideshow": {
     "slide_type": "notes"
    }
   },
   "outputs": [],
   "source": [
    "\"\"\"\n",
    "输入一棵二叉树，求该树的深度。从根结点到叶结点依次经过的结点（含根、叶结点）形成树的\n",
    "一条路径，最长路径的长度为树的深度。\n",
    "\"\"\"\n",
    "# 原文：https://blog.csdn.net/Lynette_bb/article/details/70199723\n",
    "\n",
    "\n",
    "class TreeNode:\n",
    "    def __int__(self, x):\n",
    "        self.val = x\n",
    "        self.left = None\n",
    "        self.right = None\n",
    "\n",
    "\n",
    "class Solution:\n",
    "    def TreeDepth(self, pRoof):\n",
    "        if pRoof == None:\n",
    "            return 0\n",
    "        ldepth = Solution.TreeDepth(self, pRoof.left)\n",
    "        rdepth = Solution.TreeDepth(self, pRoof.right)\n",
    "        return max(ldepth, rdepth) + 1"
   ]
  },
  {
   "cell_type": "code",
   "execution_count": 2,
   "metadata": {
    "collapsed": true,
    "nbpresent": {
     "id": "2f082a22-7bf2-4bc2-a8b1-8ebeafa9b771"
    }
   },
   "outputs": [],
   "source": [
    "\"\"\"\n",
    "输入一棵二叉树，判断该二叉树是否是平衡二叉树。若左右子树深度差不超过1则为一颗平衡二叉树。\n",
    "\"\"\"\n",
    "# 原文：https://blog.csdn.net/slibra_L/article/details/78173760\n",
    "\n",
    "\n",
    "class Solution:\n",
    "    def IsBalanced(self, pRoot, depth):\n",
    "        if pRoot is None:\n",
    "            return True\n",
    "        if self.IsBalanced(pRoot.right, right) and self.IsBalanced(pRoot.left, left):\n",
    "            diff = abs(left - right)\n",
    "            if diff <= 1:\n",
    "                depth = max(left, right) + 1\n",
    "                return True\n",
    "        return False\n",
    "\n",
    "    def IsBalanced_Solution(self, pRoot):\n",
    "        # write code here\n",
    "        depth = 0\n",
    "        return self.IsBalanced(pRoot, depth)"
   ]
  },
  {
   "cell_type": "code",
   "execution_count": null,
   "metadata": {
    "collapsed": true
   },
   "outputs": [],
   "source": []
  }
 ],
 "metadata": {
  "anaconda-cloud": {},
  "kernelspec": {
   "display_name": "Python [conda env:liuzhen]",
   "language": "python",
   "name": "conda-env-liuzhen-py"
  },
  "language_info": {
   "codemirror_mode": {
    "name": "ipython",
    "version": 3
   },
   "file_extension": ".py",
   "mimetype": "text/x-python",
   "name": "python",
   "nbconvert_exporter": "python",
   "pygments_lexer": "ipython3",
   "version": "3.6.2"
  },
  "nbpresent": {
   "slides": {
    "86ac9cf2-27b3-4f22-8e9d-64d952028a3e": {
     "id": "86ac9cf2-27b3-4f22-8e9d-64d952028a3e",
     "prev": null,
     "regions": {}
    }
   },
   "themes": {}
  }
 },
 "nbformat": 4,
 "nbformat_minor": 1
}
