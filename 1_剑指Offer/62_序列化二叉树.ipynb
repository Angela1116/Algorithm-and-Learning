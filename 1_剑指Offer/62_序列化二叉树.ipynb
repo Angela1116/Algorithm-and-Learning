{
 "cells": [
  {
   "cell_type": "code",
   "execution_count": 1,
   "metadata": {
    "collapsed": true
   },
   "outputs": [],
   "source": [
    "\"\"\"\n",
    "请实现两个函数，分别用来序列化和反序列化二叉树\n",
    "\"\"\"\n",
    "# 原文：https://blog.csdn.net/fuxuemingzhu/article/details/79725343\n",
    "\n",
    "\n",
    "# -*- coding:utf-8 -*-\n",
    "# class TreeNode:\n",
    "#     def __init__(self, x):\n",
    "#         self.val = x\n",
    "#         self.left = None\n",
    "#         self.right = None\n",
    "from collections import deque\n",
    "\n",
    "\n",
    "class Solution:\n",
    "    def Serialize(self, root):\n",
    "        vals = []\n",
    "\n",
    "        def preOrder(root):\n",
    "            if not root:\n",
    "                vals.append('#')\n",
    "            else:\n",
    "                vals.append(str(root.val))\n",
    "                preOrder(root.left)\n",
    "                preOrder(root.right)\n",
    "        preOrder(root)\n",
    "        return ' '.join(vals)\n",
    "\n",
    "    def Deserialize(self, s):\n",
    "        vals = deque(val for val in s.split())\n",
    "\n",
    "        def build():\n",
    "            if vals:\n",
    "                val = vals.popleft()\n",
    "                if val == '#':\n",
    "                    return None\n",
    "                root = TreeNode(int(val))\n",
    "                root.left = build()\n",
    "                root.right = build()\n",
    "                return root\n",
    "        return build()"
   ]
  },
  {
   "cell_type": "code",
   "execution_count": null,
   "metadata": {
    "collapsed": true
   },
   "outputs": [],
   "source": []
  }
 ],
 "metadata": {
  "anaconda-cloud": {},
  "kernelspec": {
   "display_name": "Python [conda env:liuzhen]",
   "language": "python",
   "name": "conda-env-liuzhen-py"
  },
  "language_info": {
   "codemirror_mode": {
    "name": "ipython",
    "version": 3
   },
   "file_extension": ".py",
   "mimetype": "text/x-python",
   "name": "python",
   "nbconvert_exporter": "python",
   "pygments_lexer": "ipython3",
   "version": "3.6.2"
  },
  "nbpresent": {
   "slides": {
    "86ac9cf2-27b3-4f22-8e9d-64d952028a3e": {
     "id": "86ac9cf2-27b3-4f22-8e9d-64d952028a3e",
     "prev": null,
     "regions": {}
    }
   },
   "themes": {}
  }
 },
 "nbformat": 4,
 "nbformat_minor": 1
}
