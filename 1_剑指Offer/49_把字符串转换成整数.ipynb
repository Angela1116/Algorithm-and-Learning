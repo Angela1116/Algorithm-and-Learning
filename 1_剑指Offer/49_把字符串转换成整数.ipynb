{
 "cells": [
  {
   "cell_type": "code",
   "execution_count": 1,
   "metadata": {
    "collapsed": true
   },
   "outputs": [],
   "source": [
    "\"\"\"\n",
    "将一个字符串转换成一个整数，要求不能使用字符串转换整数的库函数。\n",
    "数值为0或者字符串不是一个合法的数值则返回0\n",
    "\"\"\"\n",
    "# 原文：https://blog.csdn.net/u010005281/article/details/80171233\n",
    "\n",
    "\n",
    "class Solution:\n",
    "    def StrToInt(self, s):\n",
    "        res, mult, flag = 0, 1, 1\n",
    "        if not s:\n",
    "            return res\n",
    "        if s[0] == '-' or s[0] == '+':\n",
    "            if s[0] == '-':\n",
    "                flag = -1\n",
    "            s = s[1:]\n",
    "        for i in range(len(s)-1, -1, -1):\n",
    "            if '9' >= s[i] >= '0':\n",
    "                res += (ord(s[i]) - 48)*mult\n",
    "                mult = mult * 10\n",
    "            else:\n",
    "                return 0\n",
    "        return res*flag"
   ]
  },
  {
   "cell_type": "code",
   "execution_count": 2,
   "metadata": {
    "collapsed": false
   },
   "outputs": [
    {
     "data": {
      "text/plain": [
       "-1010"
      ]
     },
     "execution_count": 2,
     "metadata": {},
     "output_type": "execute_result"
    }
   ],
   "source": [
    "Solution().StrToInt(\"-1010\")"
   ]
  },
  {
   "cell_type": "code",
   "execution_count": null,
   "metadata": {
    "collapsed": true
   },
   "outputs": [],
   "source": []
  }
 ],
 "metadata": {
  "anaconda-cloud": {},
  "kernelspec": {
   "display_name": "Python [conda env:liuzhen]",
   "language": "python",
   "name": "conda-env-liuzhen-py"
  },
  "language_info": {
   "codemirror_mode": {
    "name": "ipython",
    "version": 3
   },
   "file_extension": ".py",
   "mimetype": "text/x-python",
   "name": "python",
   "nbconvert_exporter": "python",
   "pygments_lexer": "ipython3",
   "version": "3.6.2"
  },
  "nbpresent": {
   "slides": {
    "86ac9cf2-27b3-4f22-8e9d-64d952028a3e": {
     "id": "86ac9cf2-27b3-4f22-8e9d-64d952028a3e",
     "prev": null,
     "regions": {}
    }
   },
   "themes": {}
  }
 },
 "nbformat": 4,
 "nbformat_minor": 1
}
