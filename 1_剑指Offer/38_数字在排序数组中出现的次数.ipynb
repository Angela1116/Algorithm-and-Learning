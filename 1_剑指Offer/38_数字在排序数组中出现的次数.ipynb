{
 "cells": [
  {
   "cell_type": "code",
   "execution_count": 1,
   "metadata": {
    "collapsed": false,
    "nbpresent": {
     "id": "25291823-96e1-4d69-a4cb-e5a0e6438a06"
    },
    "slideshow": {
     "slide_type": "notes"
    }
   },
   "outputs": [],
   "source": [
    "\"\"\"\n",
    "统计一个数字在排序数组中出现的次数。例如输入排序数组{1,2,3,3,3,3,4,5},\n",
    "由于3在这个数组中出现了4次，因此输出4.\n",
    "\"\"\"\n",
    "# 原文：https://blog.csdn.net/fuxuemingzhu/article/details/79680624\n",
    "\n",
    "\n",
    "class Solution:\n",
    "    def GetNumberOfK(self, data, k):\n",
    "        num = 0\n",
    "        if data:\n",
    "            first = self.getFirstK(data, k, 0, len(data) - 1)\n",
    "            last = self.getLastK(data, k, 0, len(data) - 1)\n",
    "            if first > -1 and last > -1:\n",
    "                num = last - first + 1\n",
    "        return num\n",
    "\n",
    "    def getFirstK(self, data, k, start, end):\n",
    "        if start > end:\n",
    "            return -1\n",
    "        mid = int((start + end) / 2)\n",
    "        midD = data[mid]\n",
    "        if midD > k:\n",
    "            end = mid - 1\n",
    "        elif midD < k:\n",
    "            start = mid + 1\n",
    "        else:\n",
    "            if (mid == 0) or (mid > 0 and data[mid - 1] != k):\n",
    "                return mid\n",
    "            else:\n",
    "                end = mid - 1\n",
    "        return self.getFirstK(data, k, start, end)\n",
    "\n",
    "    def getLastK(self, data, k, start, end):\n",
    "        if start > end:\n",
    "            return -1\n",
    "        mid = int((start + end) / 2)\n",
    "        midD = data[mid]\n",
    "        if midD > k:\n",
    "            end = mid - 1\n",
    "        elif midD < k:\n",
    "            start = mid + 1\n",
    "        else:\n",
    "            if (mid == len(data) - 1) or (mid < len(data) - 1 and data[mid + 1] != k):\n",
    "                return mid\n",
    "            else:\n",
    "                start = mid + 1\n",
    "        return self.getLastK(data, k, start, end)  # 复制粘贴搞错了。"
   ]
  },
  {
   "cell_type": "code",
   "execution_count": 2,
   "metadata": {
    "collapsed": false,
    "nbpresent": {
     "id": "94f0d6a5-4f9c-4ed6-891a-6a43dbd99d23"
    }
   },
   "outputs": [
    {
     "data": {
      "text/plain": [
       "4"
      ]
     },
     "execution_count": 2,
     "metadata": {},
     "output_type": "execute_result"
    }
   ],
   "source": [
    "Solution().GetNumberOfK([1,2,3,3,3,3,4,5], 3)"
   ]
  },
  {
   "cell_type": "code",
   "execution_count": 3,
   "metadata": {
    "collapsed": false,
    "nbpresent": {
     "id": "12a38b43-09c9-44f9-ad06-85fe09649b0d"
    }
   },
   "outputs": [
    {
     "data": {
      "text/plain": [
       "1"
      ]
     },
     "execution_count": 3,
     "metadata": {},
     "output_type": "execute_result"
    }
   ],
   "source": [
    "Solution().GetNumberOfK([1,2,3,3,3,3,4,5], 1)"
   ]
  },
  {
   "cell_type": "code",
   "execution_count": 4,
   "metadata": {
    "collapsed": false,
    "nbpresent": {
     "id": "5180540c-5d47-499c-a21a-2dd9ceb7ea56"
    }
   },
   "outputs": [
    {
     "data": {
      "text/plain": [
       "1"
      ]
     },
     "execution_count": 4,
     "metadata": {},
     "output_type": "execute_result"
    }
   ],
   "source": [
    "Solution().GetNumberOfK([1,2,3,3,3,3,4,5], 4)"
   ]
  },
  {
   "cell_type": "code",
   "execution_count": null,
   "metadata": {
    "collapsed": true,
    "nbpresent": {
     "id": "2f082a22-7bf2-4bc2-a8b1-8ebeafa9b771"
    }
   },
   "outputs": [],
   "source": []
  }
 ],
 "metadata": {
  "anaconda-cloud": {},
  "kernelspec": {
   "display_name": "Python [conda env:liuzhen]",
   "language": "python",
   "name": "conda-env-liuzhen-py"
  },
  "language_info": {
   "codemirror_mode": {
    "name": "ipython",
    "version": 3
   },
   "file_extension": ".py",
   "mimetype": "text/x-python",
   "name": "python",
   "nbconvert_exporter": "python",
   "pygments_lexer": "ipython3",
   "version": "3.6.2"
  },
  "nbpresent": {
   "slides": {
    "86ac9cf2-27b3-4f22-8e9d-64d952028a3e": {
     "id": "86ac9cf2-27b3-4f22-8e9d-64d952028a3e",
     "prev": null,
     "regions": {}
    }
   },
   "themes": {}
  }
 },
 "nbformat": 4,
 "nbformat_minor": 1
}
