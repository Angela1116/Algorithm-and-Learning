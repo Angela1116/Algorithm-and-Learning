{
 "cells": [
  {
   "cell_type": "code",
   "execution_count": 1,
   "metadata": {},
   "outputs": [],
   "source": [
    "\"\"\"\n",
    "一个链表中包含环，请找出该链表的环的入口结点。\n",
    "\"\"\"\n",
    "# 原文：https://blog.csdn.net/shizhengxin123/article/details/79498907 \n",
    "\n",
    "\n",
    "# class ListNode:\n",
    "#     def __init__(self, x):\n",
    "#         self.val = x\n",
    "#         self.next = None\n",
    "class Solution:\n",
    "    def EntryNodeOfLoop(self, pHead):\n",
    "        pFast = pHead\n",
    "        pSlow = pHead\n",
    "        while pFast != None and pFast.next != None:\n",
    "            pFast = pFast.next.next\n",
    "            pSlow = pSlow.next\n",
    "            if pFast == pSlow:\n",
    "                break\n",
    "        if pFast == None or  pFast.next == None:\n",
    "            return None\n",
    "        pFast = pHead\n",
    "        while (pFast != pSlow):\n",
    "            pFast = pFast.next\n",
    "            pSlow = pSlow.next\n",
    "        return pFast"
   ]
  },
  {
   "cell_type": "code",
   "execution_count": null,
   "metadata": {},
   "outputs": [],
   "source": []
  }
 ],
 "metadata": {
  "kernelspec": {
   "display_name": "Python 3",
   "language": "python",
   "name": "python3"
  },
  "language_info": {
   "codemirror_mode": {
    "name": "ipython",
    "version": 3
   },
   "file_extension": ".py",
   "mimetype": "text/x-python",
   "name": "python",
   "nbconvert_exporter": "python",
   "pygments_lexer": "ipython3",
   "version": "3.6.4"
  }
 },
 "nbformat": 4,
 "nbformat_minor": 2
}
