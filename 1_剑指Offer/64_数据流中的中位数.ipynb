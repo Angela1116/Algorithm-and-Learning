{
 "cells": [
  {
   "cell_type": "code",
   "execution_count": 1,
   "metadata": {
    "collapsed": true
   },
   "outputs": [],
   "source": [
    "\"\"\"\n",
    "如何得到一个数据流中的中位数？如果从数据流中读出奇数个数值，\n",
    "那么中位数就是所有数值排序之后位于中间的数值。\n",
    "如果从数据流中读出偶数个数值，那么中位数就是所有数值排序之后中间两个数的平均值。\n",
    "\"\"\"\n",
    "# 原文：https://blog.csdn.net/csdn_lzw/article/details/82939100\n",
    "\n",
    "\n",
    "from heapq import *\n",
    "\n",
    "\n",
    "class Solution:\n",
    "    def __init__(self):\n",
    "        self.maxheap = []\n",
    "        self.minheap = []\n",
    "\n",
    "    def Insert(self, num):\n",
    "        if (len(self.maxheap)+len(self.minheap)) & 1:  # 总数为奇数插入最大堆\n",
    "            if len(self.minheap) > 0:\n",
    "                if num > self.minheap[0]:  # 大于最小堆里的元素\n",
    "                    heappush(self.minheap, num)  # 新数据插入最小堆\n",
    "                    heappush(self.maxheap, -self.minheap[0])  # 最小堆中的最小插入最大堆\n",
    "                    heappop(self.minheap)\n",
    "                else:\n",
    "                    heappush(self.maxheap, -num)\n",
    "            else:\n",
    "                heappush(self.maxheap, -num)\n",
    "        else:  # 总数为偶数 插入最小堆\n",
    "            if len(self.maxheap) > 0:  # 小于最大堆里的元素\n",
    "                if num < -self.maxheap[0]:\n",
    "                    heappush(self.maxheap, -num)  # 新数据插入最大堆\n",
    "                    heappush(self.minheap, -self.maxheap[0])  # 最大堆中的最大元素插入最小堆\n",
    "                    heappop(self.maxheap)\n",
    "                else:\n",
    "                    heappush(self.minheap, num)\n",
    "            else:\n",
    "                heappush(self.minheap, num)\n",
    "        #print (self.minheap)\n",
    "\n",
    "    def GetMedian(self, n=None):\n",
    "        if (len(self.maxheap)+len(self.minheap)) & 1:\n",
    "            mid = self.minheap[0]\n",
    "        else:\n",
    "            mid = (self.minheap[0]-self.maxheap[0])/2.0\n",
    "        return mid"
   ]
  },
  {
   "cell_type": "code",
   "execution_count": null,
   "metadata": {
    "collapsed": true
   },
   "outputs": [],
   "source": []
  }
 ],
 "metadata": {
  "anaconda-cloud": {},
  "kernelspec": {
   "display_name": "Python [conda env:liuzhen]",
   "language": "python",
   "name": "conda-env-liuzhen-py"
  },
  "language_info": {
   "codemirror_mode": {
    "name": "ipython",
    "version": 3
   },
   "file_extension": ".py",
   "mimetype": "text/x-python",
   "name": "python",
   "nbconvert_exporter": "python",
   "pygments_lexer": "ipython3",
   "version": "3.6.2"
  },
  "nbpresent": {
   "slides": {
    "86ac9cf2-27b3-4f22-8e9d-64d952028a3e": {
     "id": "86ac9cf2-27b3-4f22-8e9d-64d952028a3e",
     "prev": null,
     "regions": {}
    }
   },
   "themes": {}
  }
 },
 "nbformat": 4,
 "nbformat_minor": 1
}
