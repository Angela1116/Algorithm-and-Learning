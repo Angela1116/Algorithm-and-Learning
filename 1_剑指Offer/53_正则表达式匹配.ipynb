{
 "cells": [
  {
   "cell_type": "code",
   "execution_count": 1,
   "metadata": {},
   "outputs": [],
   "source": [
    "\"\"\"\n",
    "请实现一个函数用来匹配包括.和*的正则表达式。模式中的字符.表示任意一个字符，而*表示它前面的字符可以出现任意次（包含0次）。\n",
    "在本题中，匹配是指字符串的所有字符匹配整个模式。\n",
    "例如，字符串aaa与模式a.a和ab*ac*a匹配，但是与aa.a和ab*a均不匹配。\n",
    "\n",
    "题意解析：\n",
    "\"匹配\"是指完全匹配，即aaa与aaaa不匹配，只有aaa与aaa才能说是匹配。\n",
    "b*可以是''也可以是\"bbbbbb*\"，例如ab*ac*a可以理解为\"aaa\"，也可以理解为\"abaa\"或者\"abaca\"。\n",
    "\"\"\"\n",
    "\n",
    "\"\"\"\n",
    "解题思路：\n",
    "字符串：strA, 模式串patternB\n",
    "(1)patternB[j+1] != '*'\n",
    "当strA[i] == patternB[j]或者patternB[j] == '.' and i < len(strA)\n",
    "    如果strA[i+1] != patternB[j+1], 返回False\n",
    "    如果strA[i+1] == patternB[j+1]，进行下一轮比较\n",
    "当strA[i] != patternB[j] and patternB[j] != '.'\n",
    "    直接返回Flase\n",
    "(2)patternB[j+1] == '*'\n",
    "当strA[i] == patternB[j]或者patternB[j] == '.' and i < len(strA)\n",
    "1)i不变，模式串 j = j + 2\n",
    "2)j不变，字符串 i = i + 1\n",
    "3）i = i+ 1， j = j + 2\n",
    "当strA[i] != patternB[j] and patternB[j] != '.'\n",
    "1)i不变，模式串 j = j + 2\n",
    "\"\"\"\n",
    "\n",
    "def matchReg(strA: str, patternB: str, i: int = 0, j: int = 0) -> bool:\n",
    "    if i == len(strA) and j == len(patternB):   # 完全匹配\n",
    "        return True\n",
    "    if i < len(strA) and j == len(patternB) or (i == len(strA) and j < len(patternB)):\n",
    "        return False\n",
    "    \n",
    "    if (j+1) < len(patternB) and patternB[j+1] == '*':\n",
    "        if (patternB[j] == '.' and i < len(strA)) or (strA[i] == patternB[j]):\n",
    "            return matchReg(strA, patternB, i, j + 2) or matchReg(strA, patternB, i + 1, j) or matchReg(strA, patternB, i + 1, j + 2)\n",
    "        else:\n",
    "            return matchReg(strA, patternB, i, j + 2)\n",
    "    \n",
    "    if (patternB[j] == '.' and i < len(strA)) or (strA[i] == patternB[j]):\n",
    "        return matchReg(strA, patternB, i + 1, j + 1)\n",
    "    \n",
    "    return False"
   ]
  },
  {
   "cell_type": "code",
   "execution_count": 2,
   "metadata": {},
   "outputs": [
    {
     "data": {
      "text/plain": [
       "True"
      ]
     },
     "execution_count": 2,
     "metadata": {},
     "output_type": "execute_result"
    }
   ],
   "source": [
    "matchReg(\"aaa\", \"a.a\")"
   ]
  },
  {
   "cell_type": "code",
   "execution_count": 3,
   "metadata": {},
   "outputs": [
    {
     "data": {
      "text/plain": [
       "True"
      ]
     },
     "execution_count": 3,
     "metadata": {},
     "output_type": "execute_result"
    }
   ],
   "source": [
    "matchReg(\"aaa\", \"ab*ac*a\")"
   ]
  },
  {
   "cell_type": "code",
   "execution_count": 4,
   "metadata": {},
   "outputs": [
    {
     "data": {
      "text/plain": [
       "False"
      ]
     },
     "execution_count": 4,
     "metadata": {},
     "output_type": "execute_result"
    }
   ],
   "source": [
    "matchReg(\"aaa\", \"aa.a\")"
   ]
  },
  {
   "cell_type": "code",
   "execution_count": 5,
   "metadata": {},
   "outputs": [
    {
     "data": {
      "text/plain": [
       "False"
      ]
     },
     "execution_count": 5,
     "metadata": {},
     "output_type": "execute_result"
    }
   ],
   "source": [
    "matchReg(\"aaa\", \"ab*a\")"
   ]
  },
  {
   "cell_type": "code",
   "execution_count": null,
   "metadata": {},
   "outputs": [],
   "source": []
  }
 ],
 "metadata": {
  "kernelspec": {
   "display_name": "Python 3",
   "language": "python",
   "name": "python3"
  },
  "language_info": {
   "codemirror_mode": {
    "name": "ipython",
    "version": 3
   },
   "file_extension": ".py",
   "mimetype": "text/x-python",
   "name": "python",
   "nbconvert_exporter": "python",
   "pygments_lexer": "ipython3",
   "version": "3.6.4"
  }
 },
 "nbformat": 4,
 "nbformat_minor": 2
}
