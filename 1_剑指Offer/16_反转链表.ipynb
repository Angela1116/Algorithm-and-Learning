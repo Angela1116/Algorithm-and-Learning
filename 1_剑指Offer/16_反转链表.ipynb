{
 "cells": [
  {
   "cell_type": "code",
   "execution_count": 1,
   "metadata": {
    "collapsed": true
   },
   "outputs": [],
   "source": [
    "\"\"\"\n",
    "定义一个函数，输入一个链表的头结点，反转该链表并输出反转后链表的头结点。\n",
    "\"\"\"\n",
    "\n",
    "\n",
    "class ListNode:\n",
    "    def __init__(self, x=None):\n",
    "        self.value = x\n",
    "        self.nextN = None\n",
    "\n",
    "\n",
    "def reverseList(head: ListNode) -> ListNode:\n",
    "    pNode = head\n",
    "    pReverseHead = ListNode(None)\n",
    "    pPrev = ListNode(None)\n",
    "    while pNode.value != None:\n",
    "        pNext = pNode.nextN\n",
    "        if pNext.value == None:\n",
    "            pReverseHead = pNode\n",
    "\n",
    "        pNode.nextN = pPrev\n",
    "        pPrev = pNode\n",
    "        pNode = pNext\n",
    "\n",
    "    return pReverseHead"
   ]
  },
  {
   "cell_type": "code",
   "execution_count": null,
   "metadata": {
    "collapsed": true
   },
   "outputs": [],
   "source": []
  }
 ],
 "metadata": {
  "anaconda-cloud": {},
  "kernelspec": {
   "display_name": "Python [conda env:liuzhen]",
   "language": "python",
   "name": "conda-env-liuzhen-py"
  },
  "language_info": {
   "codemirror_mode": {
    "name": "ipython",
    "version": 3
   },
   "file_extension": ".py",
   "mimetype": "text/x-python",
   "name": "python",
   "nbconvert_exporter": "python",
   "pygments_lexer": "ipython3",
   "version": "3.6.2"
  }
 },
 "nbformat": 4,
 "nbformat_minor": 1
}
