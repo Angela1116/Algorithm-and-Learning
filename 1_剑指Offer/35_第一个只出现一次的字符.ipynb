{
 "cells": [
  {
   "cell_type": "code",
   "execution_count": 1,
   "metadata": {
    "collapsed": false
   },
   "outputs": [],
   "source": [
    "\"\"\"\n",
    "在字符串中找出第一个只出现一次的字符。如输入\"abaccdeff\"，则输出'b'。\n",
    "\"\"\"\n",
    "\n",
    "\"\"\"\n",
    "# -*- coding:utf-8 -*-\n",
    "from collections import Counter\n",
    "class Solution:\n",
    "    def FirstNotRepeatingChar(self, s):\n",
    "        if not s: return -1\n",
    "        count = Counter(s)\n",
    "        for i,c in enumerate(s):\n",
    "            if count[c] == 1:\n",
    "                return i\n",
    "\n",
    "原文：https://blog.csdn.net/fuxuemingzhu/article/details/79654933 \n",
    "\"\"\"\n",
    "\n",
    "\n",
    "def getFirstCharOne(stringA: str) -> str:\n",
    "    if stringA is None:\n",
    "        return\n",
    "\n",
    "    result = {}\n",
    "    for c in stringA:\n",
    "        result[c] = 0\n",
    "    for c in stringA:\n",
    "        result[c] = result[c] + 1\n",
    "\n",
    "    for c in stringA:\n",
    "        if result[c] == 1:\n",
    "            return c\n",
    "\n",
    "    return"
   ]
  },
  {
   "cell_type": "code",
   "execution_count": 2,
   "metadata": {
    "collapsed": false
   },
   "outputs": [
    {
     "data": {
      "text/plain": [
       "'b'"
      ]
     },
     "execution_count": 2,
     "metadata": {},
     "output_type": "execute_result"
    }
   ],
   "source": [
    "getFirstCharOne(\"ccabadeff\")"
   ]
  },
  {
   "cell_type": "code",
   "execution_count": 3,
   "metadata": {
    "collapsed": false
   },
   "outputs": [
    {
     "data": {
      "text/plain": [
       "'h'"
      ]
     },
     "execution_count": 3,
     "metadata": {},
     "output_type": "execute_result"
    }
   ],
   "source": [
    "getFirstCharOne('abcabcabch')"
   ]
  },
  {
   "cell_type": "code",
   "execution_count": null,
   "metadata": {
    "collapsed": true
   },
   "outputs": [],
   "source": []
  }
 ],
 "metadata": {
  "anaconda-cloud": {},
  "kernelspec": {
   "display_name": "Python [conda env:liuzhen]",
   "language": "python",
   "name": "conda-env-liuzhen-py"
  },
  "language_info": {
   "codemirror_mode": {
    "name": "ipython",
    "version": 3
   },
   "file_extension": ".py",
   "mimetype": "text/x-python",
   "name": "python",
   "nbconvert_exporter": "python",
   "pygments_lexer": "ipython3",
   "version": "3.6.2"
  }
 },
 "nbformat": 4,
 "nbformat_minor": 1
}
