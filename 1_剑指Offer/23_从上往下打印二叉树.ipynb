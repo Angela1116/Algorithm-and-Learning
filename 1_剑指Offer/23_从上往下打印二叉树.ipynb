{
 "cells": [
  {
   "cell_type": "code",
   "execution_count": 1,
   "metadata": {
    "collapsed": true
   },
   "outputs": [],
   "source": [
    "\"\"\"\n",
    "从上往下打印出二叉树的每个结点，同一层的结点按照从左到右的顺序打印。\n",
    "\"\"\"\n",
    "\n",
    "\n",
    "class BinaryTreeNode:\n",
    "    def __init__(self, x):\n",
    "        self.value = x\n",
    "        self.pLeft = None\n",
    "        self.pRight = None\n",
    "\n",
    "\n",
    "def printTreeTopToBottom(rootNode: BinaryTreeNode) -> None:\n",
    "    if not rootNode:\n",
    "        return\n",
    "\n",
    "    dequeNode = []\n",
    "    dequeNode.append(rootNode)\n",
    "    while len(dequeNode) > 0:\n",
    "        pNode = dequeNode.pop(0)\n",
    "        print(\" \", pNode.value)\n",
    "        if pNode.pLeft:\n",
    "            dequeNode.append(pNode.pLeft)\n",
    "        if pNode.pRight:\n",
    "            dequeNode.append(pNode.pRight)\n",
    "\n",
    "    return"
   ]
  },
  {
   "cell_type": "code",
   "execution_count": null,
   "metadata": {
    "collapsed": true
   },
   "outputs": [],
   "source": []
  }
 ],
 "metadata": {
  "anaconda-cloud": {},
  "kernelspec": {
   "display_name": "Python [conda env:liuzhen]",
   "language": "python",
   "name": "conda-env-liuzhen-py"
  },
  "language_info": {
   "codemirror_mode": {
    "name": "ipython",
    "version": 3
   },
   "file_extension": ".py",
   "mimetype": "text/x-python",
   "name": "python",
   "nbconvert_exporter": "python",
   "pygments_lexer": "ipython3",
   "version": "3.6.2"
  }
 },
 "nbformat": 4,
 "nbformat_minor": 1
}
