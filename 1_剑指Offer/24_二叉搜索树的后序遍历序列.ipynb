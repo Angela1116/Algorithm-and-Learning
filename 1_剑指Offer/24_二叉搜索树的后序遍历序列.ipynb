{
 "cells": [
  {
   "cell_type": "code",
   "execution_count": 1,
   "metadata": {
    "collapsed": true
   },
   "outputs": [],
   "source": [
    "\"\"\"\n",
    "输入一个整数数组，判断该数组是不是某二叉搜索树的后序遍历的结果。如果是则返回True，否则返回Faslse.\n",
    "假设输入的数组的任意两个数字都互不相同。\n",
    "\"\"\"\n",
    "# 原文：https://blog.csdn.net/You_are_my_dream/article/details/54767810\n",
    "\n",
    "\n",
    "class Solution:\n",
    "    def VerifySquenceOfBST(self, sequence):\n",
    "        # write code here\n",
    "        if not sequence:\n",
    "            return False\n",
    "\n",
    "        # 获取根节点\n",
    "        root = sequence[-1]\n",
    "\n",
    "        # 根据二叉搜索树的性质，左孩子的每个结点的值都小于根节点\n",
    "        for i in range(len(sequence)):\n",
    "            if sequence[i] > root:\n",
    "                break\n",
    "\n",
    "        # 判断是否右孩子的每个结点的值都大于根结点\n",
    "        for j in range(i, len(sequence)):\n",
    "            if sequence[j] < root:\n",
    "                return False\n",
    "\n",
    "        left = True\n",
    "        # i > 0 的时候证明有左孩子\n",
    "        if i > 0:\n",
    "            # 递归遍历左孩子\n",
    "            left = self.VerifySquenceOfBST(sequence[: i])\n",
    "\n",
    "        right = True\n",
    "        # 证明有右孩子，通过i的值不在最后一个结点判断，len(sequence) - 1 为sequence的最后一个结点\n",
    "        if i < len(sequence) - 1:\n",
    "            right = self.VerifySquenceOfBST(sequence[i: -1])\n",
    "\n",
    "        return left and right"
   ]
  },
  {
   "cell_type": "code",
   "execution_count": null,
   "metadata": {
    "collapsed": true
   },
   "outputs": [],
   "source": []
  }
 ],
 "metadata": {
  "anaconda-cloud": {},
  "kernelspec": {
   "display_name": "Python [conda env:liuzhen]",
   "language": "python",
   "name": "conda-env-liuzhen-py"
  },
  "language_info": {
   "codemirror_mode": {
    "name": "ipython",
    "version": 3
   },
   "file_extension": ".py",
   "mimetype": "text/x-python",
   "name": "python",
   "nbconvert_exporter": "python",
   "pygments_lexer": "ipython3",
   "version": "3.6.2"
  }
 },
 "nbformat": 4,
 "nbformat_minor": 1
}
