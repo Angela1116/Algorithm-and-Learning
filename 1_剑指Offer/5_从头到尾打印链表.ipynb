{
 "cells": [
  {
   "cell_type": "code",
   "execution_count": 1,
   "metadata": {
    "collapsed": false
   },
   "outputs": [],
   "source": [
    "\"\"\"\n",
    "输入一个链表的头结点，从头到尾反过来打印出每个结点的值\n",
    "\"\"\"\n",
    "\n",
    "\"\"\"\n",
    "Python中实现链表(ListNode)结构的参考代码文章链接：(Python的deque模块可以实现队列)\n",
    "https://www.cnblogs.com/king-ding/p/pythonchaintable.html\n",
    "\"\"\"\n",
    "\n",
    "\"\"\"\n",
    "Python中实现栈(Stack)的参考代码文章链接：(Python自带的List结构，可以调用其中的方法，模拟出栈结构的功能)\n",
    "https://www.cnblogs.com/russellluo/p/3282563.html\n",
    "\"\"\"\n",
    "\n",
    "\"\"\"\n",
    "下面代码仅供参考，具体实现需要先定义好ListNode、Stack的结构和内部调用方法\n",
    "\"\"\""
   ]
  },
  {
   "cell_type": "code",
   "execution_count": 2,
   "metadata": {
    "collapsed": false
   },
   "outputs": [],
   "source": [
    "# 方法1：使用栈来实现\n",
    "def reversePrintList(ListNode head):\n",
    "    stack = Stack()\n",
    "    ListNode node = head\n",
    "    while(node != None):\n",
    "        stack.push(node)\n",
    "        node = node._next\n",
    "    \n",
    "    while(!stack.empty()):\n",
    "        print(stack.top())\n",
    "        stack.pop()"
   ]
  },
  {
   "cell_type": "code",
   "execution_count": 3,
   "metadata": {
    "collapsed": true
   },
   "outputs": [],
   "source": [
    "# 方法2：使用递归来实现\n",
    "def reversePrintList_Recursion(ListNode head):\n",
    "    if head != None:\n",
    "        if head._next != None:\n",
    "            reversePrintList_Recursion(head._next)\n",
    "        print(head.data)"
   ]
  },
  {
   "cell_type": "code",
   "execution_count": null,
   "metadata": {
    "collapsed": true
   },
   "outputs": [],
   "source": []
  }
 ],
 "metadata": {
  "anaconda-cloud": {},
  "kernelspec": {
   "display_name": "Python [conda env:liuzhen]",
   "language": "python",
   "name": "conda-env-liuzhen-py"
  },
  "language_info": {
   "codemirror_mode": {
    "name": "ipython",
    "version": 3
   },
   "file_extension": ".py",
   "mimetype": "text/x-python",
   "name": "python",
   "nbconvert_exporter": "python",
   "pygments_lexer": "ipython3",
   "version": "3.6.2"
  }
 },
 "nbformat": 4,
 "nbformat_minor": 1
}
