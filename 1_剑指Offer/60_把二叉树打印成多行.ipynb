{
 "cells": [
  {
   "cell_type": "code",
   "execution_count": 1,
   "metadata": {
    "collapsed": true
   },
   "outputs": [],
   "source": [
    "\"\"\"\n",
    "从上到下按层打印二叉树，同一层结点从左至右输出。每一层输出一行。\n",
    "\"\"\"\n",
    "# 原文：https://blog.csdn.net/u010005281/article/details/79761056\n",
    "\n",
    "\n",
    "def Print(self, pRoot):\n",
    "    if not pRoot:\n",
    "        return []\n",
    "    resultList = []\n",
    "    curLayer = [pRoot]\n",
    "    while curLayer:\n",
    "        curList = []\n",
    "        nextLayer = []\n",
    "        for node in curLayer:\n",
    "            curList.append(node.val)\n",
    "            if node.left:\n",
    "                nextLayer.append(node.left)\n",
    "            if node.right:\n",
    "                nextLayer.append(node.right)\n",
    "        resultList.append(curList)\n",
    "        curLayer = nextLayer\n",
    "    return resultList"
   ]
  },
  {
   "cell_type": "code",
   "execution_count": null,
   "metadata": {
    "collapsed": true
   },
   "outputs": [],
   "source": []
  }
 ],
 "metadata": {
  "anaconda-cloud": {},
  "kernelspec": {
   "display_name": "Python [conda env:liuzhen]",
   "language": "python",
   "name": "conda-env-liuzhen-py"
  },
  "language_info": {
   "codemirror_mode": {
    "name": "ipython",
    "version": 3
   },
   "file_extension": ".py",
   "mimetype": "text/x-python",
   "name": "python",
   "nbconvert_exporter": "python",
   "pygments_lexer": "ipython3",
   "version": "3.6.2"
  },
  "nbpresent": {
   "slides": {
    "86ac9cf2-27b3-4f22-8e9d-64d952028a3e": {
     "id": "86ac9cf2-27b3-4f22-8e9d-64d952028a3e",
     "prev": null,
     "regions": {}
    }
   },
   "themes": {}
  }
 },
 "nbformat": 4,
 "nbformat_minor": 1
}
