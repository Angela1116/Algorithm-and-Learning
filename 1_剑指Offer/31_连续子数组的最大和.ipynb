{
 "cells": [
  {
   "cell_type": "code",
   "execution_count": 1,
   "metadata": {
    "collapsed": false
   },
   "outputs": [],
   "source": [
    "\"\"\"\n",
    "输入一个整型数组，数组里有整数也有负数。数组中一个或连续的多个整数组成一个\n",
    "子数组。求所有子数组的和的最大值。要求时间复杂度为O(n)\n",
    "\"\"\"\n",
    "\n",
    "\n",
    "def getGreatSumofSubArray(arrayN: list) -> int:\n",
    "    if len(arrayN) <= 0:\n",
    "        return\n",
    "\n",
    "    maxSum = arrayN[0]\n",
    "    currentSum = arrayN[0]\n",
    "    for i in range(1, len(arrayN)):\n",
    "        if currentSum <= 0:\n",
    "            currentSum = arrayN[i]\n",
    "        else:\n",
    "            currentSum = currentSum + arrayN[i]\n",
    "        if maxSum < currentSum:\n",
    "            maxSum = currentSum\n",
    "\n",
    "    return maxSum"
   ]
  },
  {
   "cell_type": "code",
   "execution_count": 2,
   "metadata": {
    "collapsed": true
   },
   "outputs": [],
   "source": [
    "getGreatSumofSubArray([])"
   ]
  },
  {
   "cell_type": "code",
   "execution_count": 3,
   "metadata": {
    "collapsed": false
   },
   "outputs": [
    {
     "data": {
      "text/plain": [
       "4"
      ]
     },
     "execution_count": 3,
     "metadata": {},
     "output_type": "execute_result"
    }
   ],
   "source": [
    "getGreatSumofSubArray([1,-3,4])"
   ]
  },
  {
   "cell_type": "code",
   "execution_count": 4,
   "metadata": {
    "collapsed": false
   },
   "outputs": [
    {
     "data": {
      "text/plain": [
       "-100"
      ]
     },
     "execution_count": 4,
     "metadata": {},
     "output_type": "execute_result"
    }
   ],
   "source": [
    "getGreatSumofSubArray([-100])"
   ]
  },
  {
   "cell_type": "code",
   "execution_count": 5,
   "metadata": {
    "collapsed": false
   },
   "outputs": [
    {
     "data": {
      "text/plain": [
       "18"
      ]
     },
     "execution_count": 5,
     "metadata": {},
     "output_type": "execute_result"
    }
   ],
   "source": [
    "getGreatSumofSubArray([1,-2,3,10,-4,7,2,-5])"
   ]
  },
  {
   "cell_type": "code",
   "execution_count": null,
   "metadata": {
    "collapsed": true
   },
   "outputs": [],
   "source": []
  }
 ],
 "metadata": {
  "anaconda-cloud": {},
  "kernelspec": {
   "display_name": "Python [conda env:liuzhen]",
   "language": "python",
   "name": "conda-env-liuzhen-py"
  },
  "language_info": {
   "codemirror_mode": {
    "name": "ipython",
    "version": 3
   },
   "file_extension": ".py",
   "mimetype": "text/x-python",
   "name": "python",
   "nbconvert_exporter": "python",
   "pygments_lexer": "ipython3",
   "version": "3.6.2"
  }
 },
 "nbformat": 4,
 "nbformat_minor": 1
}
