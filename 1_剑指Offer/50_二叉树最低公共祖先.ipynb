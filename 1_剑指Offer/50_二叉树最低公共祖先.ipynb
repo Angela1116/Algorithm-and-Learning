{
 "cells": [
  {
   "cell_type": "code",
   "execution_count": 1,
   "metadata": {
    "collapsed": true
   },
   "outputs": [],
   "source": [
    "\"\"\"\n",
    "给定一棵二叉树，找到两个节点的最近公共父节点(LCA)。\n",
    "\"\"\"\n",
    "# 原文：https://blog.csdn.net/wenqiwenqi123/article/details/79952043\n",
    "\n",
    "\n",
    "class TreeNode:\n",
    "    def __init__(self, val):\n",
    "        self.val = val\n",
    "        self.left, self.right = None, None\n",
    "\n",
    "\n",
    "class Solution:\n",
    "    def lowestCommonAncestor(self, root, A, B):\n",
    "        if(root is None or root == A or root == B):\n",
    "            return root  # 若root为空或者root为A或者root为B，说明找到了A和B其中一个\n",
    "        left = self.lowestCommonAncestor(root.left, A, B)\n",
    "        right = self.lowestCommonAncestor(root.right, A, B)\n",
    "        if(left is not None and right is not None):\n",
    "            return root  # 若左子树找到了A，右子树找到了B，说明此时的root就是公共祖先\n",
    "        if(left is None):  # 若左子树是none右子树不是，说明右子树找到了A或B\n",
    "            return right\n",
    "        if(right is None):  # 同理\n",
    "            return left"
   ]
  },
  {
   "cell_type": "code",
   "execution_count": null,
   "metadata": {
    "collapsed": true
   },
   "outputs": [],
   "source": []
  }
 ],
 "metadata": {
  "anaconda-cloud": {},
  "kernelspec": {
   "display_name": "Python [conda env:liuzhen]",
   "language": "python",
   "name": "conda-env-liuzhen-py"
  },
  "language_info": {
   "codemirror_mode": {
    "name": "ipython",
    "version": 3
   },
   "file_extension": ".py",
   "mimetype": "text/x-python",
   "name": "python",
   "nbconvert_exporter": "python",
   "pygments_lexer": "ipython3",
   "version": "3.6.2"
  },
  "nbpresent": {
   "slides": {
    "86ac9cf2-27b3-4f22-8e9d-64d952028a3e": {
     "id": "86ac9cf2-27b3-4f22-8e9d-64d952028a3e",
     "prev": null,
     "regions": {}
    }
   },
   "themes": {}
  }
 },
 "nbformat": 4,
 "nbformat_minor": 1
}
