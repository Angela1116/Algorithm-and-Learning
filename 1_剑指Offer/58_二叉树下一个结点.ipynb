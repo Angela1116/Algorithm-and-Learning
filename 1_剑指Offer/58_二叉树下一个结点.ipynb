{
 "cells": [
  {
   "cell_type": "code",
   "execution_count": 1,
   "metadata": {},
   "outputs": [],
   "source": [
    "\"\"\"\n",
    "给定一个二叉树和其中的一个结点，请找出中序遍历顺序的下一个结点并且返回。\n",
    "注意，树中的结点不仅包含左右子结点，同时包含指向父结点的指针。\n",
    "\"\"\"\n",
    "# 原文：https://blog.csdn.net/fuxuemingzhu/article/details/79723819\n",
    "\n",
    "\n",
    "# -*- coding:utf-8 -*-\n",
    "# class TreeLinkNode:\n",
    "#     def __init__(self, x):\n",
    "#         self.val = x\n",
    "#         self.left = None\n",
    "#         self.right = None\n",
    "#         self.next = None\n",
    "class Solution:\n",
    "    def GetNext(self, pNode):\n",
    "        if not pNode: return None\n",
    "        if pNode.right:\n",
    "            pNode = pNode.right\n",
    "            while pNode.left:\n",
    "                pNode = pNode.left\n",
    "            return pNode\n",
    "        else:\n",
    "            while pNode.next:\n",
    "                if pNode == pNode.next.left:\n",
    "                    return pNode.next\n",
    "                pNode = pNode.next\n",
    "        return None"
   ]
  },
  {
   "cell_type": "code",
   "execution_count": null,
   "metadata": {},
   "outputs": [],
   "source": []
  }
 ],
 "metadata": {
  "kernelspec": {
   "display_name": "Python 3",
   "language": "python",
   "name": "python3"
  },
  "language_info": {
   "codemirror_mode": {
    "name": "ipython",
    "version": 3
   },
   "file_extension": ".py",
   "mimetype": "text/x-python",
   "name": "python",
   "nbconvert_exporter": "python",
   "pygments_lexer": "ipython3",
   "version": "3.6.4"
  }
 },
 "nbformat": 4,
 "nbformat_minor": 2
}
