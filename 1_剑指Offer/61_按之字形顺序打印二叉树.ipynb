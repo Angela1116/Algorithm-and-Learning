{
 "cells": [
  {
   "cell_type": "code",
   "execution_count": 1,
   "metadata": {
    "collapsed": true
   },
   "outputs": [],
   "source": [
    "\"\"\"\n",
    "请实现一个函数按照之字形打印二叉树，即第一行按照从左到右的顺序打印，\n",
    "第二层按照从右至左的顺序打印，第三行按照从左到右的顺序打印，其他行以此类推。\n",
    "\"\"\"\n",
    "# 原文：https://blog.csdn.net/u010005281/article/details/79759926\n",
    "\n",
    "\n",
    "def Print(self, pRoot):\n",
    "    resultArray = []\n",
    "    if not pRoot:\n",
    "        return resultArray\n",
    "    curLayerNodes = [pRoot]\n",
    "    isEvenLayer = True\n",
    "    while curLayerNodes:\n",
    "        curLayerValues = []\n",
    "        nextLayerNodes = []\n",
    "        isEvenLayer = not isEvenLayer\n",
    "        for node in curLayerNodes:\n",
    "            curLayerValues.append(node.val)\n",
    "            if node.left:\n",
    "                nextLayerNodes.append(node.left)\n",
    "            if node.right:\n",
    "                nextLayerNodes.append(node.right)\n",
    "        curLayerNodes = nextLayerNodes\n",
    "        resultArray.append(\n",
    "            curLayerValues[::-1]) if isEvenLayer else resultArray.append(curLayerValues)\n",
    "    return resultArray"
   ]
  },
  {
   "cell_type": "code",
   "execution_count": null,
   "metadata": {
    "collapsed": true
   },
   "outputs": [],
   "source": []
  }
 ],
 "metadata": {
  "anaconda-cloud": {},
  "kernelspec": {
   "display_name": "Python [conda env:liuzhen]",
   "language": "python",
   "name": "conda-env-liuzhen-py"
  },
  "language_info": {
   "codemirror_mode": {
    "name": "ipython",
    "version": 3
   },
   "file_extension": ".py",
   "mimetype": "text/x-python",
   "name": "python",
   "nbconvert_exporter": "python",
   "pygments_lexer": "ipython3",
   "version": "3.6.2"
  },
  "nbpresent": {
   "slides": {
    "86ac9cf2-27b3-4f22-8e9d-64d952028a3e": {
     "id": "86ac9cf2-27b3-4f22-8e9d-64d952028a3e",
     "prev": null,
     "regions": {}
    }
   },
   "themes": {}
  }
 },
 "nbformat": 4,
 "nbformat_minor": 1
}
