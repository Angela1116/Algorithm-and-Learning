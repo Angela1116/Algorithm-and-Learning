{
 "cells": [
  {
   "cell_type": "code",
   "execution_count": 1,
   "metadata": {
    "collapsed": true
   },
   "outputs": [],
   "source": [
    "\"\"\"\n",
    "请实现一个函数，输入一个整数，输出该整二进制表示种1的个数。例如，把9表示成二进制1001，有2位1.因此如果输入9，该函数输出2。\n",
    "\"\"\"\n",
    "\n",
    "\n",
    "def getNumberof1(n: int) -> int:\n",
    "    count = 0\n",
    "    flag = 1\n",
    "    if n < 0:\n",
    "        n = -n\n",
    "\n",
    "    while(flag <= n):\n",
    "        if n & flag:\n",
    "            count = count + 1\n",
    "        flag = flag << 1\n",
    "\n",
    "    return count\n",
    "\n",
    "\n",
    "def printNumberof1(n: int) -> int:\n",
    "    count = 0\n",
    "    if n < 0:\n",
    "        n = -n\n",
    "\n",
    "    while n:\n",
    "        count = count + 1\n",
    "        n = (n - 1) & n\n",
    "\n",
    "    return count"
   ]
  },
  {
   "cell_type": "code",
   "execution_count": 2,
   "metadata": {
    "collapsed": false,
    "scrolled": true
   },
   "outputs": [
    {
     "name": "stdout",
     "output_type": "stream",
     "text": [
      "4\n",
      "4\n"
     ]
    }
   ],
   "source": [
    "print(getNumberof1(15))\n",
    "print(printNumberof1(--15))"
   ]
  },
  {
   "cell_type": "code",
   "execution_count": 3,
   "metadata": {
    "collapsed": false
   },
   "outputs": [
    {
     "name": "stdout",
     "output_type": "stream",
     "text": [
      "2\n",
      "2\n"
     ]
    }
   ],
   "source": [
    "print(getNumberof1(10))\n",
    "print(printNumberof1(--10))"
   ]
  },
  {
   "cell_type": "code",
   "execution_count": 4,
   "metadata": {
    "collapsed": false,
    "scrolled": true
   },
   "outputs": [
    {
     "name": "stdout",
     "output_type": "stream",
     "text": [
      "2\n",
      "2\n"
     ]
    }
   ],
   "source": [
    "print(getNumberof1(9))\n",
    "print(printNumberof1(--9))"
   ]
  },
  {
   "cell_type": "code",
   "execution_count": 5,
   "metadata": {
    "collapsed": false
   },
   "outputs": [
    {
     "name": "stdout",
     "output_type": "stream",
     "text": [
      "1\n",
      "1\n"
     ]
    }
   ],
   "source": [
    "print(getNumberof1(1))\n",
    "print(printNumberof1(--1))"
   ]
  },
  {
   "cell_type": "code",
   "execution_count": 6,
   "metadata": {
    "collapsed": false,
    "scrolled": true
   },
   "outputs": [
    {
     "name": "stdout",
     "output_type": "stream",
     "text": [
      "0\n",
      "0\n"
     ]
    }
   ],
   "source": [
    "print(getNumberof1(0))\n",
    "print(printNumberof1(--0))"
   ]
  },
  {
   "cell_type": "code",
   "execution_count": null,
   "metadata": {
    "collapsed": true
   },
   "outputs": [],
   "source": []
  }
 ],
 "metadata": {
  "anaconda-cloud": {},
  "kernelspec": {
   "display_name": "Python [conda env:liuzhen]",
   "language": "python",
   "name": "conda-env-liuzhen-py"
  },
  "language_info": {
   "codemirror_mode": {
    "name": "ipython",
    "version": 3
   },
   "file_extension": ".py",
   "mimetype": "text/x-python",
   "name": "python",
   "nbconvert_exporter": "python",
   "pygments_lexer": "ipython3",
   "version": "3.6.2"
  }
 },
 "nbformat": 4,
 "nbformat_minor": 1
}
