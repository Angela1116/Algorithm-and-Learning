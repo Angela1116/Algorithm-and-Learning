{
 "cells": [
  {
   "cell_type": "code",
   "execution_count": 1,
   "metadata": {
    "collapsed": false
   },
   "outputs": [],
   "source": [
    "\"\"\"\n",
    "输入一颗二叉搜索树。将该二叉搜索树转换成一个排序的双向链表。要求不能创建任何新的结点，\n",
    "只能调整树中结点指针的指向。\n",
    "\"\"\"\n",
    "\n",
    "\n",
    "# -*- coding:utf-8 -*-\n",
    "class BinaryTreeNode:\n",
    "    def __init__(self, x):\n",
    "        self.value = x\n",
    "        self.left = None\n",
    "        self.right = None\n",
    "\n",
    "\n",
    "def getConvert(root: BinaryTreeNode) -> BinaryTreeNode:\n",
    "    pLastNode = None\n",
    "    convertNode(root, pLastNode)\n",
    "    pHead = pLastNode\n",
    "    while pHead.left and pHead:\n",
    "        pHead = pHead.left\n",
    "\n",
    "    return pHead\n",
    "\n",
    "\n",
    "def convertNode(pNode: BinaryTreeNode, pLastNode: BinaryTreeNode) -> None:\n",
    "    if not pNode:\n",
    "        return\n",
    "\n",
    "    pCurrent = pNode\n",
    "    if pCurrent.left:\n",
    "        convertNode(pNode.left, pLastNode)\n",
    "\n",
    "    pCurrent.left = pLastNode\n",
    "    if pLastNode:\n",
    "        pLastNode.right = pCurrent\n",
    "\n",
    "    pLastNode = pCurrent\n",
    "    if pCurrent.right:\n",
    "        convertNode(pCurrent.right, pLastNode)"
   ]
  },
  {
   "cell_type": "code",
   "execution_count": null,
   "metadata": {
    "collapsed": true
   },
   "outputs": [],
   "source": []
  }
 ],
 "metadata": {
  "anaconda-cloud": {},
  "kernelspec": {
   "display_name": "Python [conda env:liuzhen]",
   "language": "python",
   "name": "conda-env-liuzhen-py"
  },
  "language_info": {
   "codemirror_mode": {
    "name": "ipython",
    "version": 3
   },
   "file_extension": ".py",
   "mimetype": "text/x-python",
   "name": "python",
   "nbconvert_exporter": "python",
   "pygments_lexer": "ipython3",
   "version": "3.6.2"
  }
 },
 "nbformat": 4,
 "nbformat_minor": 1
}
