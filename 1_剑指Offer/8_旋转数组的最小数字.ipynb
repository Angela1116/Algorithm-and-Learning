{
 "cells": [
  {
   "cell_type": "code",
   "execution_count": 1,
   "metadata": {
    "collapsed": true
   },
   "outputs": [],
   "source": [
    "\"\"\"\n",
    "把一个数组最开始的若干个元素搬到数组的末尾，我们称之为数组的旋转。输入一个递增排序的数组的一个旋转，\n",
    "输出旋转数组的最小元素。例如数组{3，4，5，1，2}为{1，2，3，4，5}的一个旋转，该数组的最小值为1。\n",
    "\"\"\"\n",
    "\n",
    "\n",
    "def getMinArray(reverseArray: list) -> int:\n",
    "    if len(reverseArray) <= 0:\n",
    "        print(\"Input error.\")\n",
    "        return\n",
    "\n",
    "    front = 0\n",
    "    end = len(reverseArray) - 1\n",
    "    mid = 0  # 当旋转数组旋转的元素个数为0时，最小元素即为第一个元素\n",
    "\n",
    "    while((reverseArray[front] >= reverseArray[end]) and (end - front > 1)):\n",
    "        mid = int((front + end) / 2)\n",
    "        if (reverseArray[mid] == reverseArray[front]) and (reverseArray[mid] == reverseArray[end]):\n",
    "            return sortSearchMin(reverseArray, front, end)\n",
    "\n",
    "        if reverseArray[mid] >= reverseArray[front]:\n",
    "            front = mid\n",
    "        elif reverseArray[mid] <= reverseArray[end]:\n",
    "            end = mid\n",
    "\n",
    "    return reverseArray[mid]\n",
    "\n",
    "\n",
    "def sortSearchMin(reverseArray: list, front: int, end: int) -> int:\n",
    "    result = reverseArray[front]\n",
    "    for i in range(front, end + 1):\n",
    "        if result > reverseArray[i]:\n",
    "            result = reverseArray[i]\n",
    "\n",
    "    return result"
   ]
  },
  {
   "cell_type": "code",
   "execution_count": 2,
   "metadata": {
    "collapsed": false
   },
   "outputs": [
    {
     "data": {
      "text/plain": [
       "1"
      ]
     },
     "execution_count": 2,
     "metadata": {},
     "output_type": "execute_result"
    }
   ],
   "source": [
    "getMinArray([3,4,5,1,2])"
   ]
  },
  {
   "cell_type": "code",
   "execution_count": 3,
   "metadata": {
    "collapsed": false
   },
   "outputs": [
    {
     "data": {
      "text/plain": [
       "1"
      ]
     },
     "execution_count": 3,
     "metadata": {},
     "output_type": "execute_result"
    }
   ],
   "source": [
    "getMinArray([3,4,5,1,2,2,2,2,2,2])"
   ]
  },
  {
   "cell_type": "code",
   "execution_count": 4,
   "metadata": {
    "collapsed": false
   },
   "outputs": [
    {
     "data": {
      "text/plain": [
       "3"
      ]
     },
     "execution_count": 4,
     "metadata": {},
     "output_type": "execute_result"
    }
   ],
   "source": [
    "getMinArray([3,5])"
   ]
  },
  {
   "cell_type": "code",
   "execution_count": 5,
   "metadata": {
    "collapsed": false
   },
   "outputs": [
    {
     "data": {
      "text/plain": [
       "0"
      ]
     },
     "execution_count": 5,
     "metadata": {},
     "output_type": "execute_result"
    }
   ],
   "source": [
    "getMinArray([1,1,1,0,0,0,1,1,1,1,1])"
   ]
  },
  {
   "cell_type": "code",
   "execution_count": 6,
   "metadata": {
    "collapsed": false
   },
   "outputs": [
    {
     "data": {
      "text/plain": [
       "1"
      ]
     },
     "execution_count": 6,
     "metadata": {},
     "output_type": "execute_result"
    }
   ],
   "source": [
    "getMinArray([1,1,1,3,1,1,1,1])"
   ]
  },
  {
   "cell_type": "code",
   "execution_count": null,
   "metadata": {
    "collapsed": true
   },
   "outputs": [],
   "source": []
  }
 ],
 "metadata": {
  "anaconda-cloud": {},
  "kernelspec": {
   "display_name": "Python [conda env:liuzhen]",
   "language": "python",
   "name": "conda-env-liuzhen-py"
  },
  "language_info": {
   "codemirror_mode": {
    "name": "ipython",
    "version": 3
   },
   "file_extension": ".py",
   "mimetype": "text/x-python",
   "name": "python",
   "nbconvert_exporter": "python",
   "pygments_lexer": "ipython3",
   "version": "3.6.2"
  }
 },
 "nbformat": 4,
 "nbformat_minor": 1
}
