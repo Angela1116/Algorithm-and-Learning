{
 "cells": [
  {
   "cell_type": "code",
   "execution_count": 1,
   "metadata": {
    "collapsed": false
   },
   "outputs": [],
   "source": [
    "\"\"\"\n",
    "给定单向链表的头指针和一个结点指针，定义一个函数在O(1)时间删除该结点。\n",
    "\"\"\"\n",
    "\n",
    "# 原文：https://blog.csdn.net/slibra_L/article/details/78151979\n",
    "\n",
    "\n",
    "class ListNode:\n",
    "    def __init__(self, x=None):\n",
    "        self.val - x\n",
    "        self.next = None\n",
    "\n",
    "    def __del__(self):\n",
    "        self.val = None\n",
    "        self.next = None\n",
    "\n",
    "\n",
    "class Solution:\n",
    "    def DeleteNode(self, pListHead, pToBeDeleted):\n",
    "        if not pListHead or not pToBeDeleted:\n",
    "            return None\n",
    "\n",
    "        if pToBeDeleted.next != None:  # 如果要删除的节点后面不为空，则将下一个节点复制\n",
    "            pToBeDeleted.val = pToBeDeleted.next.val\n",
    "            pToBeDeleted.next = pToBeDeleted.next.next\n",
    "            pToBeDeleted.next.__del__()\n",
    "        elif pListHead == pToBeDeleted:\n",
    "            pToBeDeleted.__del__()\n",
    "            pListHead.__del__()\n",
    "        else:\n",
    "            pNode = pListHead\n",
    "            while pNode != pToBeDeleted:\n",
    "                pNode = pNode.next\n",
    "            pNode.next = None\n",
    "            pToBeDeleted.__del__()"
   ]
  },
  {
   "cell_type": "code",
   "execution_count": null,
   "metadata": {
    "collapsed": true
   },
   "outputs": [],
   "source": []
  }
 ],
 "metadata": {
  "anaconda-cloud": {},
  "kernelspec": {
   "display_name": "Python [conda env:liuzhen]",
   "language": "python",
   "name": "conda-env-liuzhen-py"
  },
  "language_info": {
   "codemirror_mode": {
    "name": "ipython",
    "version": 3
   },
   "file_extension": ".py",
   "mimetype": "text/x-python",
   "name": "python",
   "nbconvert_exporter": "python",
   "pygments_lexer": "ipython3",
   "version": "3.6.2"
  }
 },
 "nbformat": 4,
 "nbformat_minor": 1
}
