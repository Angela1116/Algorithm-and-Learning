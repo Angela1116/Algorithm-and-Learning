{
 "cells": [
  {
   "cell_type": "code",
   "execution_count": 1,
   "metadata": {
    "collapsed": false
   },
   "outputs": [],
   "source": [
    "\"\"\"\n",
    "把n个骰子扔在地上，所有骰子朝上一面的点数之和为s。输入n，打印出所有可能的值出现的概率。\n",
    "\"\"\"\n",
    "# 原文：https://blog.csdn.net/leokingszx/article/details/80794407\n",
    "# 动态规划问题，有点难以理解\n",
    "\n",
    "def get_ans(n):\n",
    "    dp = [[0 for i in range(6*n)] for i in range(n)]\n",
    "\n",
    "    for i in range(6):\n",
    "        dp[0][i] = 1\n",
    "    # print dp\n",
    "    for i in range(1, n):  # 1，相当于2个骰子。\n",
    "        for j in range(i, 6*(i+1)):  # [0,i-1]的时候，频数为0（例如2个骰子不可能投出点数和为1）\n",
    "            dp[i][j] = dp[i-1][j-6] + dp[i-1][j-5] + dp[i-1][j-4] +\\\n",
    "                dp[i - 1][j - 3] + dp[i-1][j-2] + dp[i-1][j-1]\n",
    "\n",
    "    count = dp[n-1]\n",
    "    return count  # 算得骰子投出每一个点数的频数。再除以总的排列数即可得到频率"
   ]
  },
  {
   "cell_type": "code",
   "execution_count": 2,
   "metadata": {
    "collapsed": false
   },
   "outputs": [
    {
     "data": {
      "text/plain": [
       "[0, 1, 2, 3, 4, 5, 6, 5, 4, 3, 2, 1]"
      ]
     },
     "execution_count": 2,
     "metadata": {},
     "output_type": "execute_result"
    }
   ],
   "source": [
    "get_ans(2)"
   ]
  },
  {
   "cell_type": "code",
   "execution_count": null,
   "metadata": {
    "collapsed": true
   },
   "outputs": [],
   "source": []
  }
 ],
 "metadata": {
  "anaconda-cloud": {},
  "kernelspec": {
   "display_name": "Python [conda env:liuzhen]",
   "language": "python",
   "name": "conda-env-liuzhen-py"
  },
  "language_info": {
   "codemirror_mode": {
    "name": "ipython",
    "version": 3
   },
   "file_extension": ".py",
   "mimetype": "text/x-python",
   "name": "python",
   "nbconvert_exporter": "python",
   "pygments_lexer": "ipython3",
   "version": "3.6.2"
  },
  "nbpresent": {
   "slides": {
    "86ac9cf2-27b3-4f22-8e9d-64d952028a3e": {
     "id": "86ac9cf2-27b3-4f22-8e9d-64d952028a3e",
     "prev": null,
     "regions": {}
    }
   },
   "themes": {}
  }
 },
 "nbformat": 4,
 "nbformat_minor": 1
}
