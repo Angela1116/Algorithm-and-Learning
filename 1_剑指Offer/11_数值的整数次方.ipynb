{
 "cells": [
  {
   "cell_type": "code",
   "execution_count": 1,
   "metadata": {
    "collapsed": false
   },
   "outputs": [],
   "source": [
    "\"\"\"\n",
    "实现函数double Power(double base, int exponent)，求base的exponent次方。不得使用库函数，同时不需要考虑大数问题。\n",
    "\"\"\"\n",
    "\n",
    "\n",
    "def getPower(base: float, exponent: int) -> float:\n",
    "    if equal(base, 0.0) and (exponent < 0):\n",
    "        return 0.0\n",
    "    \n",
    "    abs_exponent = exponent\n",
    "    if exponent < 0:\n",
    "        abs_exponent = - abs_exponent\n",
    "    \n",
    "    result = PowerWithAbsExponent(base, abs_exponent)\n",
    "    if exponent < 0:\n",
    "        result = -result\n",
    "    \n",
    "    return result\n",
    "    \n",
    "    \n",
    "def equal(num1: float, num2: float) -> bool:\n",
    "    # 计算机在判单浮点数是否相等时存在误差，所以自定义\n",
    "    if (num1 - num2 > -0.0000001) and (num1 - num2 < 0.0000001):\n",
    "        return True\n",
    "    else:\n",
    "        return False\n",
    "    \n",
    "\n",
    "def PowerWithAbsExponent(base: float, absExponent: int) -> float:\n",
    "    if absExponent == 0:\n",
    "        return 1\n",
    "    if absExponent == 1:\n",
    "        return base\n",
    "    \n",
    "    result =  PowerWithAbsExponent(base, absExponent >> 1)\n",
    "    result = result * result\n",
    "    if absExponent & 0x1 == 1:\n",
    "        result = result * base\n",
    "        \n",
    "    return result\n"
   ]
  },
  {
   "cell_type": "code",
   "execution_count": 2,
   "metadata": {
    "collapsed": false,
    "scrolled": true
   },
   "outputs": [
    {
     "data": {
      "text/plain": [
       "-6.25"
      ]
     },
     "execution_count": 2,
     "metadata": {},
     "output_type": "execute_result"
    }
   ],
   "source": [
    "getPower(2.5, -2)"
   ]
  },
  {
   "cell_type": "code",
   "execution_count": null,
   "metadata": {
    "collapsed": true
   },
   "outputs": [],
   "source": []
  }
 ],
 "metadata": {
  "anaconda-cloud": {},
  "kernelspec": {
   "display_name": "Python [conda env:liuzhen]",
   "language": "python",
   "name": "conda-env-liuzhen-py"
  },
  "language_info": {
   "codemirror_mode": {
    "name": "ipython",
    "version": 3
   },
   "file_extension": ".py",
   "mimetype": "text/x-python",
   "name": "python",
   "nbconvert_exporter": "python",
   "pygments_lexer": "ipython3",
   "version": "3.6.2"
  }
 },
 "nbformat": 4,
 "nbformat_minor": 1
}
