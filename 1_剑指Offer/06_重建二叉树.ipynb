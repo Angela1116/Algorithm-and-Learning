{
 "cells": [
  {
   "cell_type": "code",
   "execution_count": 1,
   "metadata": {
    "collapsed": true
   },
   "outputs": [],
   "source": [
    "# -*- coding:utf-8 -*-\n",
    "\"\"\"\"\n",
    "重建二叉树\n",
    "题目描述\n",
    "输入某二叉树的前序遍历和中序遍历的结果，请重建出该二叉树。假设输入的前序遍历和中序遍历的结果中都不含重复的数字。\n",
    "例如输入前序遍历序列{1,2,4,7,3,5,6,8}和中序遍历序列{4,7,2,1,5,3,8,6}，则重建二叉树并返回。\n",
    "\"\"\"\n",
    "# 参考资料： https://blog.csdn.net/Lynette_bb/article/details/75224366\n",
    "\n",
    "\n",
    "class TreeNode:\n",
    "    def __init__(self, x):\n",
    "        self.val = x\n",
    "        self.left = None\n",
    "        self.right = None\n",
    "\n",
    "\n",
    "class Solution:\n",
    "    # 返回构造的TreeNode根节点\n",
    "    def reConstructBinaryTree(self, pre, tin):\n",
    "        # write code here\n",
    "        if len(pre) == 0:\n",
    "            return None\n",
    "        if len(pre) == 1:\n",
    "            return TreeNode(pre[0])\n",
    "        else:\n",
    "            res = TreeNode(pre[0])\n",
    "            \n",
    "            try:\n",
    "                root_tin = tin.index(pre[0])\n",
    "            except:\n",
    "                print(\"Invalid input.\")\n",
    "                return\n",
    "\n",
    "            res.left = self.reConstructBinaryTree(\n",
    "                pre[1: root_tin + 1], tin[: root_tin])\n",
    "            res.right = self.reConstructBinaryTree(\n",
    "                pre[root_tin + 1:], tin[root_tin + 1:])\n",
    "\n",
    "        return res"
   ]
  },
  {
   "cell_type": "code",
   "execution_count": 2,
   "metadata": {
    "collapsed": false
   },
   "outputs": [],
   "source": [
    "pre = [1,2,4,7,3,5,6,8]\n",
    "tin = [4,7,2,1,5,3,8,6]\n",
    "res = Solution().reConstructBinaryTree(pre, tin)\n",
    "\n",
    "def frontPrint(tree: TreeNode):\n",
    "    # 前序遍历\n",
    "    if tree == None:\n",
    "        return\n",
    "    print(tree.val)\n",
    "    frontPrint(tree.left)\n",
    "    frontPrint(tree.right)\n",
    "\n",
    "def middlePrint(tree: TreeNode):\n",
    "    # 中序遍历\n",
    "    if tree == None:\n",
    "        return\n",
    "    middlePrint(tree.left)\n",
    "    print(tree.val)\n",
    "    middlePrint(tree.right)"
   ]
  },
  {
   "cell_type": "code",
   "execution_count": 3,
   "metadata": {
    "collapsed": false
   },
   "outputs": [
    {
     "name": "stdout",
     "output_type": "stream",
     "text": [
      "1\n",
      "2\n",
      "4\n",
      "7\n",
      "3\n",
      "5\n",
      "6\n",
      "8\n"
     ]
    }
   ],
   "source": [
    "frontPrint(res)"
   ]
  },
  {
   "cell_type": "code",
   "execution_count": 4,
   "metadata": {
    "collapsed": false
   },
   "outputs": [
    {
     "name": "stdout",
     "output_type": "stream",
     "text": [
      "4\n",
      "7\n",
      "2\n",
      "1\n",
      "5\n",
      "3\n",
      "8\n",
      "6\n"
     ]
    }
   ],
   "source": [
    "middlePrint(res)"
   ]
  },
  {
   "cell_type": "code",
   "execution_count": 5,
   "metadata": {
    "collapsed": false
   },
   "outputs": [
    {
     "name": "stdout",
     "output_type": "stream",
     "text": [
      "Invalid input.\n"
     ]
    }
   ],
   "source": [
    "pre = [1,2,4,7,3,5,6,8]\n",
    "tin = [4,7,2,1,5,13,8,6]\n",
    "res = Solution().reConstructBinaryTree(pre, tin)"
   ]
  },
  {
   "cell_type": "code",
   "execution_count": null,
   "metadata": {
    "collapsed": true
   },
   "outputs": [],
   "source": []
  }
 ],
 "metadata": {
  "anaconda-cloud": {},
  "kernelspec": {
   "display_name": "Python [conda env:liuzhen]",
   "language": "python",
   "name": "conda-env-liuzhen-py"
  },
  "language_info": {
   "codemirror_mode": {
    "name": "ipython",
    "version": 3
   },
   "file_extension": ".py",
   "mimetype": "text/x-python",
   "name": "python",
   "nbconvert_exporter": "python",
   "pygments_lexer": "ipython3",
   "version": "3.6.2"
  }
 },
 "nbformat": 4,
 "nbformat_minor": 1
}
