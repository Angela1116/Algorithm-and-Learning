{
 "cells": [
  {
   "cell_type": "code",
   "execution_count": 1,
   "metadata": {
    "collapsed": true
   },
   "outputs": [],
   "source": [
    "\"\"\"\n",
    "输入一颗二叉树和一个整数，打印出二叉树中结点值的和为输入整数的所有路径。\n",
    "路径定义为从树的根结点开始往下一直到叶结点所经过的结点形成一条路径。\n",
    "\"\"\"\n",
    "# 原文：https://blog.csdn.net/fuxuemingzhu/article/details/79621325 \n",
    "\n",
    "\n",
    "# class TreeNode:\n",
    "#     def __init__(self, x):\n",
    "#         self.val = x\n",
    "#         self.left = None\n",
    "#         self.right = None\n",
    "class Solution:\n",
    "    # 返回二维列表，内部每个列表表示找到的路径\n",
    "    def FindPath(self, root, expectNumber):\n",
    "        res = []\n",
    "        if not root: return res\n",
    "        self.target = expectNumber\n",
    "        self.dfs(root, res, [root.val])\n",
    "        return res\n",
    "\n",
    "    def dfs(self, root, res, path):\n",
    "        if not root.left and not root.right and sum(path) == self.target:\n",
    "            res.append(path)\n",
    "        if root.left:\n",
    "            self.dfs(root.left, res, path + [root.left.val])\n",
    "        if root.right:\n",
    "            self.dfs(root.right, res, path + [root.right.val])"
   ]
  },
  {
   "cell_type": "code",
   "execution_count": null,
   "metadata": {
    "collapsed": true
   },
   "outputs": [],
   "source": []
  }
 ],
 "metadata": {
  "anaconda-cloud": {},
  "kernelspec": {
   "display_name": "Python [conda env:liuzhen]",
   "language": "python",
   "name": "conda-env-liuzhen-py"
  },
  "language_info": {
   "codemirror_mode": {
    "name": "ipython",
    "version": 3
   },
   "file_extension": ".py",
   "mimetype": "text/x-python",
   "name": "python",
   "nbconvert_exporter": "python",
   "pygments_lexer": "ipython3",
   "version": "3.6.2"
  }
 },
 "nbformat": 4,
 "nbformat_minor": 1
}
